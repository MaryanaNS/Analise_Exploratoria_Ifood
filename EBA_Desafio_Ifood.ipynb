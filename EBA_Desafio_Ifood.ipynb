{
 "cells": [
  {
   "cell_type": "markdown",
   "id": "fdbf0811",
   "metadata": {},
   "source": [
    "# Desafio Ifood | E.B.A - Estatística do Básico ao Avançado"
   ]
  },
  {
   "cell_type": "markdown",
   "id": "788a1b31",
   "metadata": {},
   "source": [
    "O conjunto de dados é composto por clientes da empresa Ifood com dados sobre:\n",
    "\n",
    "- Perfis de clientes\n",
    "- Preferências do produto\n",
    "- Sucessos/fracassos da campanha\n",
    "- Desempenho do canal\n",
    "\n",
    "###### Objetivos:\n",
    "\n",
    "- Realizar análise exploratória\n",
    "- Entender o perfil dos clientes\n",
    "- Entender como os dados se correlacionam\n",
    "\n"
   ]
  },
  {
   "cell_type": "markdown",
   "id": "f1f780a1",
   "metadata": {
    "jp-MarkdownHeadingCollapsed": true
   },
   "source": [
    "## - Análise Exploratória"
   ]
  },
  {
   "cell_type": "code",
   "execution_count": 4,
   "id": "efc81fda",
   "metadata": {},
   "outputs": [],
   "source": [
    "# Importação das bibliotecas para manipulação de tabelas (pandas), operações (numpy) e manipulação de gráficos (seaborn e matplotlib)\n",
    "import pandas as pd\n",
    "import numpy as np\n",
    "import seaborn as sns\n",
    "import matplotlib.pyplot as plt"
   ]
  },
  {
   "cell_type": "code",
   "execution_count": 5,
   "id": "2b9b3503",
   "metadata": {},
   "outputs": [],
   "source": [
    "df = pd.read_csv (\"mkt_data.csv\")"
   ]
  },
  {
   "cell_type": "code",
   "execution_count": 6,
   "id": "b7f03820",
   "metadata": {},
   "outputs": [
    {
     "data": {
      "text/html": [
       "<div>\n",
       "<style scoped>\n",
       "    .dataframe tbody tr th:only-of-type {\n",
       "        vertical-align: middle;\n",
       "    }\n",
       "\n",
       "    .dataframe tbody tr th {\n",
       "        vertical-align: top;\n",
       "    }\n",
       "\n",
       "    .dataframe thead th {\n",
       "        text-align: right;\n",
       "    }\n",
       "</style>\n",
       "<table border=\"1\" class=\"dataframe\">\n",
       "  <thead>\n",
       "    <tr style=\"text-align: right;\">\n",
       "      <th></th>\n",
       "      <th>Unnamed: 0</th>\n",
       "      <th>Income</th>\n",
       "      <th>Kidhome</th>\n",
       "      <th>Teenhome</th>\n",
       "      <th>Recency</th>\n",
       "      <th>MntWines</th>\n",
       "      <th>MntFruits</th>\n",
       "      <th>MntMeatProducts</th>\n",
       "      <th>MntFishProducts</th>\n",
       "      <th>MntSweetProducts</th>\n",
       "      <th>...</th>\n",
       "      <th>education_Graduation</th>\n",
       "      <th>education_Master</th>\n",
       "      <th>education_PhD</th>\n",
       "      <th>MntTotal</th>\n",
       "      <th>MntRegularProds</th>\n",
       "      <th>AcceptedCmpOverall</th>\n",
       "      <th>marital_status</th>\n",
       "      <th>education_level</th>\n",
       "      <th>kids</th>\n",
       "      <th>expenses</th>\n",
       "    </tr>\n",
       "  </thead>\n",
       "  <tbody>\n",
       "    <tr>\n",
       "      <th>0</th>\n",
       "      <td>0</td>\n",
       "      <td>58138.0</td>\n",
       "      <td>0</td>\n",
       "      <td>0</td>\n",
       "      <td>58</td>\n",
       "      <td>635</td>\n",
       "      <td>88</td>\n",
       "      <td>546</td>\n",
       "      <td>172</td>\n",
       "      <td>88</td>\n",
       "      <td>...</td>\n",
       "      <td>3.0</td>\n",
       "      <td>NaN</td>\n",
       "      <td>NaN</td>\n",
       "      <td>1529</td>\n",
       "      <td>1441</td>\n",
       "      <td>0</td>\n",
       "      <td>Single</td>\n",
       "      <td>Graduation</td>\n",
       "      <td>0</td>\n",
       "      <td>1529</td>\n",
       "    </tr>\n",
       "    <tr>\n",
       "      <th>1</th>\n",
       "      <td>1</td>\n",
       "      <td>46344.0</td>\n",
       "      <td>1</td>\n",
       "      <td>1</td>\n",
       "      <td>38</td>\n",
       "      <td>11</td>\n",
       "      <td>1</td>\n",
       "      <td>6</td>\n",
       "      <td>2</td>\n",
       "      <td>1</td>\n",
       "      <td>...</td>\n",
       "      <td>3.0</td>\n",
       "      <td>NaN</td>\n",
       "      <td>NaN</td>\n",
       "      <td>21</td>\n",
       "      <td>15</td>\n",
       "      <td>0</td>\n",
       "      <td>Single</td>\n",
       "      <td>Graduation</td>\n",
       "      <td>2</td>\n",
       "      <td>21</td>\n",
       "    </tr>\n",
       "    <tr>\n",
       "      <th>2</th>\n",
       "      <td>2</td>\n",
       "      <td>71613.0</td>\n",
       "      <td>0</td>\n",
       "      <td>0</td>\n",
       "      <td>26</td>\n",
       "      <td>426</td>\n",
       "      <td>49</td>\n",
       "      <td>127</td>\n",
       "      <td>111</td>\n",
       "      <td>21</td>\n",
       "      <td>...</td>\n",
       "      <td>3.0</td>\n",
       "      <td>NaN</td>\n",
       "      <td>NaN</td>\n",
       "      <td>734</td>\n",
       "      <td>692</td>\n",
       "      <td>0</td>\n",
       "      <td>Together</td>\n",
       "      <td>Graduation</td>\n",
       "      <td>0</td>\n",
       "      <td>734</td>\n",
       "    </tr>\n",
       "    <tr>\n",
       "      <th>3</th>\n",
       "      <td>3</td>\n",
       "      <td>26646.0</td>\n",
       "      <td>1</td>\n",
       "      <td>0</td>\n",
       "      <td>26</td>\n",
       "      <td>11</td>\n",
       "      <td>4</td>\n",
       "      <td>20</td>\n",
       "      <td>10</td>\n",
       "      <td>3</td>\n",
       "      <td>...</td>\n",
       "      <td>3.0</td>\n",
       "      <td>NaN</td>\n",
       "      <td>NaN</td>\n",
       "      <td>48</td>\n",
       "      <td>43</td>\n",
       "      <td>0</td>\n",
       "      <td>Together</td>\n",
       "      <td>Graduation</td>\n",
       "      <td>1</td>\n",
       "      <td>48</td>\n",
       "    </tr>\n",
       "    <tr>\n",
       "      <th>4</th>\n",
       "      <td>4</td>\n",
       "      <td>58293.0</td>\n",
       "      <td>1</td>\n",
       "      <td>0</td>\n",
       "      <td>94</td>\n",
       "      <td>173</td>\n",
       "      <td>43</td>\n",
       "      <td>118</td>\n",
       "      <td>46</td>\n",
       "      <td>27</td>\n",
       "      <td>...</td>\n",
       "      <td>NaN</td>\n",
       "      <td>NaN</td>\n",
       "      <td>5.0</td>\n",
       "      <td>407</td>\n",
       "      <td>392</td>\n",
       "      <td>0</td>\n",
       "      <td>Married</td>\n",
       "      <td>PhD</td>\n",
       "      <td>1</td>\n",
       "      <td>407</td>\n",
       "    </tr>\n",
       "    <tr>\n",
       "      <th>...</th>\n",
       "      <td>...</td>\n",
       "      <td>...</td>\n",
       "      <td>...</td>\n",
       "      <td>...</td>\n",
       "      <td>...</td>\n",
       "      <td>...</td>\n",
       "      <td>...</td>\n",
       "      <td>...</td>\n",
       "      <td>...</td>\n",
       "      <td>...</td>\n",
       "      <td>...</td>\n",
       "      <td>...</td>\n",
       "      <td>...</td>\n",
       "      <td>...</td>\n",
       "      <td>...</td>\n",
       "      <td>...</td>\n",
       "      <td>...</td>\n",
       "      <td>...</td>\n",
       "      <td>...</td>\n",
       "      <td>...</td>\n",
       "      <td>...</td>\n",
       "    </tr>\n",
       "    <tr>\n",
       "      <th>2200</th>\n",
       "      <td>2200</td>\n",
       "      <td>61223.0</td>\n",
       "      <td>0</td>\n",
       "      <td>1</td>\n",
       "      <td>46</td>\n",
       "      <td>709</td>\n",
       "      <td>43</td>\n",
       "      <td>182</td>\n",
       "      <td>42</td>\n",
       "      <td>118</td>\n",
       "      <td>...</td>\n",
       "      <td>3.0</td>\n",
       "      <td>NaN</td>\n",
       "      <td>NaN</td>\n",
       "      <td>1094</td>\n",
       "      <td>847</td>\n",
       "      <td>0</td>\n",
       "      <td>Married</td>\n",
       "      <td>Graduation</td>\n",
       "      <td>1</td>\n",
       "      <td>1094</td>\n",
       "    </tr>\n",
       "    <tr>\n",
       "      <th>2201</th>\n",
       "      <td>2201</td>\n",
       "      <td>64014.0</td>\n",
       "      <td>2</td>\n",
       "      <td>1</td>\n",
       "      <td>56</td>\n",
       "      <td>406</td>\n",
       "      <td>0</td>\n",
       "      <td>30</td>\n",
       "      <td>0</td>\n",
       "      <td>0</td>\n",
       "      <td>...</td>\n",
       "      <td>NaN</td>\n",
       "      <td>NaN</td>\n",
       "      <td>5.0</td>\n",
       "      <td>436</td>\n",
       "      <td>428</td>\n",
       "      <td>1</td>\n",
       "      <td>Together</td>\n",
       "      <td>PhD</td>\n",
       "      <td>3</td>\n",
       "      <td>436</td>\n",
       "    </tr>\n",
       "    <tr>\n",
       "      <th>2202</th>\n",
       "      <td>2202</td>\n",
       "      <td>56981.0</td>\n",
       "      <td>0</td>\n",
       "      <td>0</td>\n",
       "      <td>91</td>\n",
       "      <td>908</td>\n",
       "      <td>48</td>\n",
       "      <td>217</td>\n",
       "      <td>32</td>\n",
       "      <td>12</td>\n",
       "      <td>...</td>\n",
       "      <td>3.0</td>\n",
       "      <td>NaN</td>\n",
       "      <td>NaN</td>\n",
       "      <td>1217</td>\n",
       "      <td>1193</td>\n",
       "      <td>1</td>\n",
       "      <td>Divorced</td>\n",
       "      <td>Graduation</td>\n",
       "      <td>0</td>\n",
       "      <td>1217</td>\n",
       "    </tr>\n",
       "    <tr>\n",
       "      <th>2203</th>\n",
       "      <td>2203</td>\n",
       "      <td>69245.0</td>\n",
       "      <td>0</td>\n",
       "      <td>1</td>\n",
       "      <td>8</td>\n",
       "      <td>428</td>\n",
       "      <td>30</td>\n",
       "      <td>214</td>\n",
       "      <td>80</td>\n",
       "      <td>30</td>\n",
       "      <td>...</td>\n",
       "      <td>NaN</td>\n",
       "      <td>4.0</td>\n",
       "      <td>NaN</td>\n",
       "      <td>782</td>\n",
       "      <td>721</td>\n",
       "      <td>0</td>\n",
       "      <td>Together</td>\n",
       "      <td>Master</td>\n",
       "      <td>1</td>\n",
       "      <td>782</td>\n",
       "    </tr>\n",
       "    <tr>\n",
       "      <th>2204</th>\n",
       "      <td>2204</td>\n",
       "      <td>52869.0</td>\n",
       "      <td>1</td>\n",
       "      <td>1</td>\n",
       "      <td>40</td>\n",
       "      <td>84</td>\n",
       "      <td>3</td>\n",
       "      <td>61</td>\n",
       "      <td>2</td>\n",
       "      <td>1</td>\n",
       "      <td>...</td>\n",
       "      <td>NaN</td>\n",
       "      <td>NaN</td>\n",
       "      <td>5.0</td>\n",
       "      <td>151</td>\n",
       "      <td>130</td>\n",
       "      <td>0</td>\n",
       "      <td>Married</td>\n",
       "      <td>PhD</td>\n",
       "      <td>2</td>\n",
       "      <td>151</td>\n",
       "    </tr>\n",
       "  </tbody>\n",
       "</table>\n",
       "<p>2205 rows × 44 columns</p>\n",
       "</div>"
      ],
      "text/plain": [
       "      Unnamed: 0   Income  Kidhome  Teenhome  Recency  MntWines  MntFruits  \\\n",
       "0              0  58138.0        0         0       58       635         88   \n",
       "1              1  46344.0        1         1       38        11          1   \n",
       "2              2  71613.0        0         0       26       426         49   \n",
       "3              3  26646.0        1         0       26        11          4   \n",
       "4              4  58293.0        1         0       94       173         43   \n",
       "...          ...      ...      ...       ...      ...       ...        ...   \n",
       "2200        2200  61223.0        0         1       46       709         43   \n",
       "2201        2201  64014.0        2         1       56       406          0   \n",
       "2202        2202  56981.0        0         0       91       908         48   \n",
       "2203        2203  69245.0        0         1        8       428         30   \n",
       "2204        2204  52869.0        1         1       40        84          3   \n",
       "\n",
       "      MntMeatProducts  MntFishProducts  MntSweetProducts  ...  \\\n",
       "0                 546              172                88  ...   \n",
       "1                   6                2                 1  ...   \n",
       "2                 127              111                21  ...   \n",
       "3                  20               10                 3  ...   \n",
       "4                 118               46                27  ...   \n",
       "...               ...              ...               ...  ...   \n",
       "2200              182               42               118  ...   \n",
       "2201               30                0                 0  ...   \n",
       "2202              217               32                12  ...   \n",
       "2203              214               80                30  ...   \n",
       "2204               61                2                 1  ...   \n",
       "\n",
       "      education_Graduation  education_Master  education_PhD  MntTotal  \\\n",
       "0                      3.0               NaN            NaN      1529   \n",
       "1                      3.0               NaN            NaN        21   \n",
       "2                      3.0               NaN            NaN       734   \n",
       "3                      3.0               NaN            NaN        48   \n",
       "4                      NaN               NaN            5.0       407   \n",
       "...                    ...               ...            ...       ...   \n",
       "2200                   3.0               NaN            NaN      1094   \n",
       "2201                   NaN               NaN            5.0       436   \n",
       "2202                   3.0               NaN            NaN      1217   \n",
       "2203                   NaN               4.0            NaN       782   \n",
       "2204                   NaN               NaN            5.0       151   \n",
       "\n",
       "      MntRegularProds  AcceptedCmpOverall  marital_status  education_level  \\\n",
       "0                1441                   0          Single       Graduation   \n",
       "1                  15                   0          Single       Graduation   \n",
       "2                 692                   0        Together       Graduation   \n",
       "3                  43                   0        Together       Graduation   \n",
       "4                 392                   0         Married              PhD   \n",
       "...               ...                 ...             ...              ...   \n",
       "2200              847                   0         Married       Graduation   \n",
       "2201              428                   1        Together              PhD   \n",
       "2202             1193                   1        Divorced       Graduation   \n",
       "2203              721                   0        Together           Master   \n",
       "2204              130                   0         Married              PhD   \n",
       "\n",
       "      kids  expenses  \n",
       "0        0      1529  \n",
       "1        2        21  \n",
       "2        0       734  \n",
       "3        1        48  \n",
       "4        1       407  \n",
       "...    ...       ...  \n",
       "2200     1      1094  \n",
       "2201     3       436  \n",
       "2202     0      1217  \n",
       "2203     1       782  \n",
       "2204     2       151  \n",
       "\n",
       "[2205 rows x 44 columns]"
      ]
     },
     "execution_count": 6,
     "metadata": {},
     "output_type": "execute_result"
    }
   ],
   "source": [
    "# Visualização do arquivo\n",
    "df"
   ]
  },
  {
   "cell_type": "markdown",
   "id": "a3373691",
   "metadata": {},
   "source": [
    "### Quantos dados temos? "
   ]
  },
  {
   "cell_type": "code",
   "execution_count": 8,
   "id": "f53882fa",
   "metadata": {},
   "outputs": [
    {
     "data": {
      "text/plain": [
       "(2205, 44)"
      ]
     },
     "execution_count": 8,
     "metadata": {},
     "output_type": "execute_result"
    }
   ],
   "source": [
    "df.shape"
   ]
  },
  {
   "cell_type": "markdown",
   "id": "729886a1",
   "metadata": {},
   "source": [
    "Este dataframe possui 2205 linhas e 44 colunas."
   ]
  },
  {
   "cell_type": "markdown",
   "id": "42893657",
   "metadata": {},
   "source": [
    "### Quais são as colunas numéricas?"
   ]
  },
  {
   "cell_type": "code",
   "execution_count": 11,
   "id": "cfc89747",
   "metadata": {},
   "outputs": [
    {
     "name": "stdout",
     "output_type": "stream",
     "text": [
      "<class 'pandas.core.frame.DataFrame'>\n",
      "RangeIndex: 2205 entries, 0 to 2204\n",
      "Data columns (total 44 columns):\n",
      " #   Column                Non-Null Count  Dtype  \n",
      "---  ------                --------------  -----  \n",
      " 0   Unnamed: 0            2205 non-null   int64  \n",
      " 1   Income                2205 non-null   float64\n",
      " 2   Kidhome               2205 non-null   int64  \n",
      " 3   Teenhome              2205 non-null   int64  \n",
      " 4   Recency               2205 non-null   int64  \n",
      " 5   MntWines              2205 non-null   int64  \n",
      " 6   MntFruits             2205 non-null   int64  \n",
      " 7   MntMeatProducts       2205 non-null   int64  \n",
      " 8   MntFishProducts       2205 non-null   int64  \n",
      " 9   MntSweetProducts      2205 non-null   int64  \n",
      " 10  MntGoldProds          2205 non-null   int64  \n",
      " 11  NumDealsPurchases     2205 non-null   int64  \n",
      " 12  NumWebPurchases       2205 non-null   int64  \n",
      " 13  NumCatalogPurchases   2205 non-null   int64  \n",
      " 14  NumStorePurchases     2205 non-null   int64  \n",
      " 15  NumWebVisitsMonth     2205 non-null   int64  \n",
      " 16  AcceptedCmp3          2205 non-null   int64  \n",
      " 17  AcceptedCmp4          2205 non-null   int64  \n",
      " 18  AcceptedCmp5          2205 non-null   int64  \n",
      " 19  AcceptedCmp1          2205 non-null   int64  \n",
      " 20  AcceptedCmp2          2205 non-null   int64  \n",
      " 21  Complain              2205 non-null   int64  \n",
      " 22  Z_CostContact         2205 non-null   int64  \n",
      " 23  Z_Revenue             2205 non-null   int64  \n",
      " 24  Response              2205 non-null   int64  \n",
      " 25  Age                   2205 non-null   int64  \n",
      " 26  Customer_Days         2205 non-null   int64  \n",
      " 27  marital_Divorced      230 non-null    float64\n",
      " 28  marital_Married       854 non-null    float64\n",
      " 29  marital_Single        477 non-null    float64\n",
      " 30  marital_Together      568 non-null    float64\n",
      " 31  marital_Widow         76 non-null     float64\n",
      " 32  education_2n Cycle    198 non-null    float64\n",
      " 33  education_Basic       54 non-null     float64\n",
      " 34  education_Graduation  1113 non-null   float64\n",
      " 35  education_Master      364 non-null    float64\n",
      " 36  education_PhD         476 non-null    float64\n",
      " 37  MntTotal              2205 non-null   int64  \n",
      " 38  MntRegularProds       2205 non-null   int64  \n",
      " 39  AcceptedCmpOverall    2205 non-null   int64  \n",
      " 40  marital_status        2205 non-null   object \n",
      " 41  education_level       2205 non-null   object \n",
      " 42  kids                  2205 non-null   int64  \n",
      " 43  expenses              2205 non-null   int64  \n",
      "dtypes: float64(11), int64(31), object(2)\n",
      "memory usage: 758.1+ KB\n"
     ]
    }
   ],
   "source": [
    "# Exibição de todos os tipos de colunas\n",
    "df.info()"
   ]
  },
  {
   "cell_type": "markdown",
   "id": "5ca98d6e",
   "metadata": {},
   "source": [
    "As colunas numéricas são as do tipo \"int64\" e \"float64\". Enquanto as colunas do tipo \"object\" são categóricas."
   ]
  },
  {
   "cell_type": "markdown",
   "id": "b078f9c3",
   "metadata": {},
   "source": [
    "**Neste conjunto de dados, as colunas numéricas são:**"
   ]
  },
  {
   "cell_type": "code",
   "execution_count": 14,
   "id": "12ad8cfd",
   "metadata": {},
   "outputs": [
    {
     "data": {
      "text/plain": [
       "Index(['Unnamed: 0', 'Income', 'Kidhome', 'Teenhome', 'Recency', 'MntWines',\n",
       "       'MntFruits', 'MntMeatProducts', 'MntFishProducts', 'MntSweetProducts',\n",
       "       'MntGoldProds', 'NumDealsPurchases', 'NumWebPurchases',\n",
       "       'NumCatalogPurchases', 'NumStorePurchases', 'NumWebVisitsMonth',\n",
       "       'AcceptedCmp3', 'AcceptedCmp4', 'AcceptedCmp5', 'AcceptedCmp1',\n",
       "       'AcceptedCmp2', 'Complain', 'Z_CostContact', 'Z_Revenue', 'Response',\n",
       "       'Age', 'Customer_Days', 'marital_Divorced', 'marital_Married',\n",
       "       'marital_Single', 'marital_Together', 'marital_Widow',\n",
       "       'education_2n Cycle', 'education_Basic', 'education_Graduation',\n",
       "       'education_Master', 'education_PhD', 'MntTotal', 'MntRegularProds',\n",
       "       'AcceptedCmpOverall', 'kids', 'expenses'],\n",
       "      dtype='object')"
      ]
     },
     "execution_count": 14,
     "metadata": {},
     "output_type": "execute_result"
    }
   ],
   "source": [
    "numericas = [ 'int64' , 'float64' ]\n",
    "df.select_dtypes(include=numericas).columns"
   ]
  },
  {
   "cell_type": "markdown",
   "id": "df65c34d",
   "metadata": {},
   "source": [
    "### Temos duplicados na nossa base? Se tivermos, retire-os "
   ]
  },
  {
   "cell_type": "code",
   "execution_count": 16,
   "id": "0c1e3d5d",
   "metadata": {},
   "outputs": [
    {
     "data": {
      "text/plain": [
       "0"
      ]
     },
     "execution_count": 16,
     "metadata": {},
     "output_type": "execute_result"
    }
   ],
   "source": [
    "# Soma dos dados duplicados\n",
    "df.duplicated().sum()"
   ]
  },
  {
   "cell_type": "markdown",
   "id": "6e17bba7",
   "metadata": {},
   "source": [
    "Não há dados duplicados neste dataframe."
   ]
  },
  {
   "cell_type": "markdown",
   "id": "11edc8fd",
   "metadata": {},
   "source": [
    "### Temos dados nulos nessa base? Será que eles indicam algo? O que fazer com eles? "
   ]
  },
  {
   "cell_type": "code",
   "execution_count": 19,
   "id": "d29b50cc",
   "metadata": {},
   "outputs": [
    {
     "data": {
      "text/plain": [
       "Unnamed: 0                 0\n",
       "Income                     0\n",
       "Kidhome                    0\n",
       "Teenhome                   0\n",
       "Recency                    0\n",
       "MntWines                   0\n",
       "MntFruits                  0\n",
       "MntMeatProducts            0\n",
       "MntFishProducts            0\n",
       "MntSweetProducts           0\n",
       "MntGoldProds               0\n",
       "NumDealsPurchases          0\n",
       "NumWebPurchases            0\n",
       "NumCatalogPurchases        0\n",
       "NumStorePurchases          0\n",
       "NumWebVisitsMonth          0\n",
       "AcceptedCmp3               0\n",
       "AcceptedCmp4               0\n",
       "AcceptedCmp5               0\n",
       "AcceptedCmp1               0\n",
       "AcceptedCmp2               0\n",
       "Complain                   0\n",
       "Z_CostContact              0\n",
       "Z_Revenue                  0\n",
       "Response                   0\n",
       "Age                        0\n",
       "Customer_Days              0\n",
       "marital_Divorced        1975\n",
       "marital_Married         1351\n",
       "marital_Single          1728\n",
       "marital_Together        1637\n",
       "marital_Widow           2129\n",
       "education_2n Cycle      2007\n",
       "education_Basic         2151\n",
       "education_Graduation    1092\n",
       "education_Master        1841\n",
       "education_PhD           1729\n",
       "MntTotal                   0\n",
       "MntRegularProds            0\n",
       "AcceptedCmpOverall         0\n",
       "marital_status             0\n",
       "education_level            0\n",
       "kids                       0\n",
       "expenses                   0\n",
       "dtype: int64"
      ]
     },
     "execution_count": 19,
     "metadata": {},
     "output_type": "execute_result"
    }
   ],
   "source": [
    "# Soma dos dados nulos\n",
    "df.isnull().sum()"
   ]
  },
  {
   "cell_type": "markdown",
   "id": "27944ad4",
   "metadata": {},
   "source": [
    "As colunas que apresentam dados nulos são:\n",
    "- marital_Divorced\n",
    "- marital_Married\n",
    "- marital_Single\n",
    "- marital_Together\n",
    "- marital_Widow\n",
    "- education_2n Cycle\n",
    "- education_Basic\n",
    "- education_Graduation\n",
    "- education_Master\n",
    "- education_PhD"
   ]
  },
  {
   "cell_type": "markdown",
   "id": "e8dc5fb6",
   "metadata": {},
   "source": [
    "Analisando a nomenclatura das colunas que possuem valores nulos, é possível verificar que se tratam de colunas de variáveis categóricas nominais de estado civil (marital_x) e nível educacional (education_x). É possível que estes valores nulos representem que aquele indivíduo possui ou não a característica da coluna."
   ]
  },
  {
   "cell_type": "code",
   "execution_count": 22,
   "id": "9d86c03f",
   "metadata": {},
   "outputs": [
    {
     "data": {
      "text/plain": [
       "marital_Divorced\n",
       "1.0    230\n",
       "Name: count, dtype: int64"
      ]
     },
     "execution_count": 22,
     "metadata": {},
     "output_type": "execute_result"
    }
   ],
   "source": [
    "# Contando as ocorrências de um valor na coluna marital_Divorced\n",
    "df.marital_Divorced.value_counts()"
   ]
  },
  {
   "cell_type": "code",
   "execution_count": 23,
   "id": "11d993b1",
   "metadata": {},
   "outputs": [
    {
     "data": {
      "text/plain": [
       "education_Basic\n",
       "2.0    54\n",
       "Name: count, dtype: int64"
      ]
     },
     "execution_count": 23,
     "metadata": {},
     "output_type": "execute_result"
    }
   ],
   "source": [
    "# Contando as ocorrências de um valor na coluna education_Basic\n",
    "df.education_Basic.value_counts()"
   ]
  },
  {
   "cell_type": "markdown",
   "id": "03ef9ccc",
   "metadata": {},
   "source": [
    "A coluna marital_Divorced possui apenas o valor 1.0 que ocorre 230 vezes. Assim como a coluna education_Basic que possui apenas o valor 2.0 que ocorre 54 vezes. Sendo o restante dos valores nulo. O que traz fortes indícios de que o nulo indica a ausência da característica.\n",
    "\n",
    "Ou seja, se um indivíduo possui o valor nulo na coluna marital_Divorced, significa que ele não é divorciado, e provavelmente possui um valor válido em outra coluna que representa sua condição de estado civil."
   ]
  },
  {
   "cell_type": "code",
   "execution_count": 25,
   "id": "38a18200",
   "metadata": {
    "scrolled": true
   },
   "outputs": [
    {
     "data": {
      "text/html": [
       "<div>\n",
       "<style scoped>\n",
       "    .dataframe tbody tr th:only-of-type {\n",
       "        vertical-align: middle;\n",
       "    }\n",
       "\n",
       "    .dataframe tbody tr th {\n",
       "        vertical-align: top;\n",
       "    }\n",
       "\n",
       "    .dataframe thead th {\n",
       "        text-align: right;\n",
       "    }\n",
       "</style>\n",
       "<table border=\"1\" class=\"dataframe\">\n",
       "  <thead>\n",
       "    <tr style=\"text-align: right;\">\n",
       "      <th></th>\n",
       "      <th>marital_Divorced</th>\n",
       "      <th>marital_Married</th>\n",
       "      <th>marital_Single</th>\n",
       "      <th>marital_Together</th>\n",
       "      <th>marital_Widow</th>\n",
       "      <th>Total</th>\n",
       "    </tr>\n",
       "  </thead>\n",
       "  <tbody>\n",
       "    <tr>\n",
       "      <th>valores_validos</th>\n",
       "      <td>230</td>\n",
       "      <td>854</td>\n",
       "      <td>477</td>\n",
       "      <td>568</td>\n",
       "      <td>76</td>\n",
       "      <td>2205</td>\n",
       "    </tr>\n",
       "  </tbody>\n",
       "</table>\n",
       "</div>"
      ],
      "text/plain": [
       "                 marital_Divorced  marital_Married  marital_Single  \\\n",
       "valores_validos               230              854             477   \n",
       "\n",
       "                 marital_Together  marital_Widow  Total  \n",
       "valores_validos               568             76   2205  "
      ]
     },
     "execution_count": 25,
     "metadata": {},
     "output_type": "execute_result"
    }
   ],
   "source": [
    "colunas_marital = ['marital_Divorced' , 'marital_Married' , 'marital_Single' , 'marital_Together' , 'marital_Widow']\n",
    "df_marital = df[colunas_marital].notna().agg(['sum']).rename(index = {'sum' : 'valores_validos'})\n",
    "df_marital['Total'] = df_marital.sum(axis = 1)\n",
    "df_marital"
   ]
  },
  {
   "cell_type": "markdown",
   "id": "ec5ff5d9",
   "metadata": {},
   "source": [
    "Ao somar todos os valores válidos das colunas de cada estado civil obtemos o valor 2205, que é a quantidade de clientes presentes na base de dados. Sendo assim, é possível comprovar que a presença de um valor válido indica que o cliente possui a característica da coluna, e o valor nulo indica que não possui.\n",
    "\n",
    "Podemos transformar essas colunas com valores nulos em booleanos, onde 1 - possui a característica e 0 - não possui, a fim de facilitar a manipulação dos dados e promover clareza na interpretação destas informações."
   ]
  },
  {
   "cell_type": "code",
   "execution_count": 27,
   "id": "fd96c092",
   "metadata": {},
   "outputs": [],
   "source": [
    "# Selecionando as colunas com valores nulos\n",
    "colunas_com_nulos = ['marital_Divorced', 'marital_Married',\n",
    "       'marital_Single', 'marital_Together', 'marital_Widow',\n",
    "       'education_2n Cycle', 'education_Basic', 'education_Graduation',\n",
    "       'education_Master', 'education_PhD']"
   ]
  },
  {
   "cell_type": "code",
   "execution_count": 28,
   "id": "65bd870b",
   "metadata": {},
   "outputs": [],
   "source": [
    "# Transformando em booleano\n",
    "for coluna in colunas_com_nulos:\n",
    "  df[\"bool_\"+str(coluna)] = np.where(df[coluna].isnull(), 0, 1)"
   ]
  },
  {
   "cell_type": "code",
   "execution_count": 29,
   "id": "9dee3c17",
   "metadata": {},
   "outputs": [
    {
     "data": {
      "text/html": [
       "<div>\n",
       "<style scoped>\n",
       "    .dataframe tbody tr th:only-of-type {\n",
       "        vertical-align: middle;\n",
       "    }\n",
       "\n",
       "    .dataframe tbody tr th {\n",
       "        vertical-align: top;\n",
       "    }\n",
       "\n",
       "    .dataframe thead th {\n",
       "        text-align: right;\n",
       "    }\n",
       "</style>\n",
       "<table border=\"1\" class=\"dataframe\">\n",
       "  <thead>\n",
       "    <tr style=\"text-align: right;\">\n",
       "      <th></th>\n",
       "      <th>Unnamed: 0</th>\n",
       "      <th>Income</th>\n",
       "      <th>Kidhome</th>\n",
       "      <th>Teenhome</th>\n",
       "      <th>Recency</th>\n",
       "      <th>MntWines</th>\n",
       "      <th>MntFruits</th>\n",
       "      <th>MntMeatProducts</th>\n",
       "      <th>MntFishProducts</th>\n",
       "      <th>MntSweetProducts</th>\n",
       "      <th>...</th>\n",
       "      <th>bool_marital_Divorced</th>\n",
       "      <th>bool_marital_Married</th>\n",
       "      <th>bool_marital_Single</th>\n",
       "      <th>bool_marital_Together</th>\n",
       "      <th>bool_marital_Widow</th>\n",
       "      <th>bool_education_2n Cycle</th>\n",
       "      <th>bool_education_Basic</th>\n",
       "      <th>bool_education_Graduation</th>\n",
       "      <th>bool_education_Master</th>\n",
       "      <th>bool_education_PhD</th>\n",
       "    </tr>\n",
       "  </thead>\n",
       "  <tbody>\n",
       "    <tr>\n",
       "      <th>0</th>\n",
       "      <td>0</td>\n",
       "      <td>58138.0</td>\n",
       "      <td>0</td>\n",
       "      <td>0</td>\n",
       "      <td>58</td>\n",
       "      <td>635</td>\n",
       "      <td>88</td>\n",
       "      <td>546</td>\n",
       "      <td>172</td>\n",
       "      <td>88</td>\n",
       "      <td>...</td>\n",
       "      <td>0</td>\n",
       "      <td>0</td>\n",
       "      <td>1</td>\n",
       "      <td>0</td>\n",
       "      <td>0</td>\n",
       "      <td>0</td>\n",
       "      <td>0</td>\n",
       "      <td>1</td>\n",
       "      <td>0</td>\n",
       "      <td>0</td>\n",
       "    </tr>\n",
       "    <tr>\n",
       "      <th>1</th>\n",
       "      <td>1</td>\n",
       "      <td>46344.0</td>\n",
       "      <td>1</td>\n",
       "      <td>1</td>\n",
       "      <td>38</td>\n",
       "      <td>11</td>\n",
       "      <td>1</td>\n",
       "      <td>6</td>\n",
       "      <td>2</td>\n",
       "      <td>1</td>\n",
       "      <td>...</td>\n",
       "      <td>0</td>\n",
       "      <td>0</td>\n",
       "      <td>1</td>\n",
       "      <td>0</td>\n",
       "      <td>0</td>\n",
       "      <td>0</td>\n",
       "      <td>0</td>\n",
       "      <td>1</td>\n",
       "      <td>0</td>\n",
       "      <td>0</td>\n",
       "    </tr>\n",
       "    <tr>\n",
       "      <th>2</th>\n",
       "      <td>2</td>\n",
       "      <td>71613.0</td>\n",
       "      <td>0</td>\n",
       "      <td>0</td>\n",
       "      <td>26</td>\n",
       "      <td>426</td>\n",
       "      <td>49</td>\n",
       "      <td>127</td>\n",
       "      <td>111</td>\n",
       "      <td>21</td>\n",
       "      <td>...</td>\n",
       "      <td>0</td>\n",
       "      <td>0</td>\n",
       "      <td>0</td>\n",
       "      <td>1</td>\n",
       "      <td>0</td>\n",
       "      <td>0</td>\n",
       "      <td>0</td>\n",
       "      <td>1</td>\n",
       "      <td>0</td>\n",
       "      <td>0</td>\n",
       "    </tr>\n",
       "    <tr>\n",
       "      <th>3</th>\n",
       "      <td>3</td>\n",
       "      <td>26646.0</td>\n",
       "      <td>1</td>\n",
       "      <td>0</td>\n",
       "      <td>26</td>\n",
       "      <td>11</td>\n",
       "      <td>4</td>\n",
       "      <td>20</td>\n",
       "      <td>10</td>\n",
       "      <td>3</td>\n",
       "      <td>...</td>\n",
       "      <td>0</td>\n",
       "      <td>0</td>\n",
       "      <td>0</td>\n",
       "      <td>1</td>\n",
       "      <td>0</td>\n",
       "      <td>0</td>\n",
       "      <td>0</td>\n",
       "      <td>1</td>\n",
       "      <td>0</td>\n",
       "      <td>0</td>\n",
       "    </tr>\n",
       "    <tr>\n",
       "      <th>4</th>\n",
       "      <td>4</td>\n",
       "      <td>58293.0</td>\n",
       "      <td>1</td>\n",
       "      <td>0</td>\n",
       "      <td>94</td>\n",
       "      <td>173</td>\n",
       "      <td>43</td>\n",
       "      <td>118</td>\n",
       "      <td>46</td>\n",
       "      <td>27</td>\n",
       "      <td>...</td>\n",
       "      <td>0</td>\n",
       "      <td>1</td>\n",
       "      <td>0</td>\n",
       "      <td>0</td>\n",
       "      <td>0</td>\n",
       "      <td>0</td>\n",
       "      <td>0</td>\n",
       "      <td>0</td>\n",
       "      <td>0</td>\n",
       "      <td>1</td>\n",
       "    </tr>\n",
       "    <tr>\n",
       "      <th>...</th>\n",
       "      <td>...</td>\n",
       "      <td>...</td>\n",
       "      <td>...</td>\n",
       "      <td>...</td>\n",
       "      <td>...</td>\n",
       "      <td>...</td>\n",
       "      <td>...</td>\n",
       "      <td>...</td>\n",
       "      <td>...</td>\n",
       "      <td>...</td>\n",
       "      <td>...</td>\n",
       "      <td>...</td>\n",
       "      <td>...</td>\n",
       "      <td>...</td>\n",
       "      <td>...</td>\n",
       "      <td>...</td>\n",
       "      <td>...</td>\n",
       "      <td>...</td>\n",
       "      <td>...</td>\n",
       "      <td>...</td>\n",
       "      <td>...</td>\n",
       "    </tr>\n",
       "    <tr>\n",
       "      <th>2200</th>\n",
       "      <td>2200</td>\n",
       "      <td>61223.0</td>\n",
       "      <td>0</td>\n",
       "      <td>1</td>\n",
       "      <td>46</td>\n",
       "      <td>709</td>\n",
       "      <td>43</td>\n",
       "      <td>182</td>\n",
       "      <td>42</td>\n",
       "      <td>118</td>\n",
       "      <td>...</td>\n",
       "      <td>0</td>\n",
       "      <td>1</td>\n",
       "      <td>0</td>\n",
       "      <td>0</td>\n",
       "      <td>0</td>\n",
       "      <td>0</td>\n",
       "      <td>0</td>\n",
       "      <td>1</td>\n",
       "      <td>0</td>\n",
       "      <td>0</td>\n",
       "    </tr>\n",
       "    <tr>\n",
       "      <th>2201</th>\n",
       "      <td>2201</td>\n",
       "      <td>64014.0</td>\n",
       "      <td>2</td>\n",
       "      <td>1</td>\n",
       "      <td>56</td>\n",
       "      <td>406</td>\n",
       "      <td>0</td>\n",
       "      <td>30</td>\n",
       "      <td>0</td>\n",
       "      <td>0</td>\n",
       "      <td>...</td>\n",
       "      <td>0</td>\n",
       "      <td>0</td>\n",
       "      <td>0</td>\n",
       "      <td>1</td>\n",
       "      <td>0</td>\n",
       "      <td>0</td>\n",
       "      <td>0</td>\n",
       "      <td>0</td>\n",
       "      <td>0</td>\n",
       "      <td>1</td>\n",
       "    </tr>\n",
       "    <tr>\n",
       "      <th>2202</th>\n",
       "      <td>2202</td>\n",
       "      <td>56981.0</td>\n",
       "      <td>0</td>\n",
       "      <td>0</td>\n",
       "      <td>91</td>\n",
       "      <td>908</td>\n",
       "      <td>48</td>\n",
       "      <td>217</td>\n",
       "      <td>32</td>\n",
       "      <td>12</td>\n",
       "      <td>...</td>\n",
       "      <td>1</td>\n",
       "      <td>0</td>\n",
       "      <td>0</td>\n",
       "      <td>0</td>\n",
       "      <td>0</td>\n",
       "      <td>0</td>\n",
       "      <td>0</td>\n",
       "      <td>1</td>\n",
       "      <td>0</td>\n",
       "      <td>0</td>\n",
       "    </tr>\n",
       "    <tr>\n",
       "      <th>2203</th>\n",
       "      <td>2203</td>\n",
       "      <td>69245.0</td>\n",
       "      <td>0</td>\n",
       "      <td>1</td>\n",
       "      <td>8</td>\n",
       "      <td>428</td>\n",
       "      <td>30</td>\n",
       "      <td>214</td>\n",
       "      <td>80</td>\n",
       "      <td>30</td>\n",
       "      <td>...</td>\n",
       "      <td>0</td>\n",
       "      <td>0</td>\n",
       "      <td>0</td>\n",
       "      <td>1</td>\n",
       "      <td>0</td>\n",
       "      <td>0</td>\n",
       "      <td>0</td>\n",
       "      <td>0</td>\n",
       "      <td>1</td>\n",
       "      <td>0</td>\n",
       "    </tr>\n",
       "    <tr>\n",
       "      <th>2204</th>\n",
       "      <td>2204</td>\n",
       "      <td>52869.0</td>\n",
       "      <td>1</td>\n",
       "      <td>1</td>\n",
       "      <td>40</td>\n",
       "      <td>84</td>\n",
       "      <td>3</td>\n",
       "      <td>61</td>\n",
       "      <td>2</td>\n",
       "      <td>1</td>\n",
       "      <td>...</td>\n",
       "      <td>0</td>\n",
       "      <td>1</td>\n",
       "      <td>0</td>\n",
       "      <td>0</td>\n",
       "      <td>0</td>\n",
       "      <td>0</td>\n",
       "      <td>0</td>\n",
       "      <td>0</td>\n",
       "      <td>0</td>\n",
       "      <td>1</td>\n",
       "    </tr>\n",
       "  </tbody>\n",
       "</table>\n",
       "<p>2205 rows × 54 columns</p>\n",
       "</div>"
      ],
      "text/plain": [
       "      Unnamed: 0   Income  Kidhome  Teenhome  Recency  MntWines  MntFruits  \\\n",
       "0              0  58138.0        0         0       58       635         88   \n",
       "1              1  46344.0        1         1       38        11          1   \n",
       "2              2  71613.0        0         0       26       426         49   \n",
       "3              3  26646.0        1         0       26        11          4   \n",
       "4              4  58293.0        1         0       94       173         43   \n",
       "...          ...      ...      ...       ...      ...       ...        ...   \n",
       "2200        2200  61223.0        0         1       46       709         43   \n",
       "2201        2201  64014.0        2         1       56       406          0   \n",
       "2202        2202  56981.0        0         0       91       908         48   \n",
       "2203        2203  69245.0        0         1        8       428         30   \n",
       "2204        2204  52869.0        1         1       40        84          3   \n",
       "\n",
       "      MntMeatProducts  MntFishProducts  MntSweetProducts  ...  \\\n",
       "0                 546              172                88  ...   \n",
       "1                   6                2                 1  ...   \n",
       "2                 127              111                21  ...   \n",
       "3                  20               10                 3  ...   \n",
       "4                 118               46                27  ...   \n",
       "...               ...              ...               ...  ...   \n",
       "2200              182               42               118  ...   \n",
       "2201               30                0                 0  ...   \n",
       "2202              217               32                12  ...   \n",
       "2203              214               80                30  ...   \n",
       "2204               61                2                 1  ...   \n",
       "\n",
       "      bool_marital_Divorced  bool_marital_Married  bool_marital_Single  \\\n",
       "0                         0                     0                    1   \n",
       "1                         0                     0                    1   \n",
       "2                         0                     0                    0   \n",
       "3                         0                     0                    0   \n",
       "4                         0                     1                    0   \n",
       "...                     ...                   ...                  ...   \n",
       "2200                      0                     1                    0   \n",
       "2201                      0                     0                    0   \n",
       "2202                      1                     0                    0   \n",
       "2203                      0                     0                    0   \n",
       "2204                      0                     1                    0   \n",
       "\n",
       "      bool_marital_Together  bool_marital_Widow  bool_education_2n Cycle  \\\n",
       "0                         0                   0                        0   \n",
       "1                         0                   0                        0   \n",
       "2                         1                   0                        0   \n",
       "3                         1                   0                        0   \n",
       "4                         0                   0                        0   \n",
       "...                     ...                 ...                      ...   \n",
       "2200                      0                   0                        0   \n",
       "2201                      1                   0                        0   \n",
       "2202                      0                   0                        0   \n",
       "2203                      1                   0                        0   \n",
       "2204                      0                   0                        0   \n",
       "\n",
       "      bool_education_Basic  bool_education_Graduation  bool_education_Master  \\\n",
       "0                        0                          1                      0   \n",
       "1                        0                          1                      0   \n",
       "2                        0                          1                      0   \n",
       "3                        0                          1                      0   \n",
       "4                        0                          0                      0   \n",
       "...                    ...                        ...                    ...   \n",
       "2200                     0                          1                      0   \n",
       "2201                     0                          0                      0   \n",
       "2202                     0                          1                      0   \n",
       "2203                     0                          0                      1   \n",
       "2204                     0                          0                      0   \n",
       "\n",
       "      bool_education_PhD  \n",
       "0                      0  \n",
       "1                      0  \n",
       "2                      0  \n",
       "3                      0  \n",
       "4                      1  \n",
       "...                  ...  \n",
       "2200                   0  \n",
       "2201                   1  \n",
       "2202                   0  \n",
       "2203                   0  \n",
       "2204                   1  \n",
       "\n",
       "[2205 rows x 54 columns]"
      ]
     },
     "execution_count": 29,
     "metadata": {},
     "output_type": "execute_result"
    }
   ],
   "source": [
    "# Criação de novas colunas com valores booleanos\n",
    "df"
   ]
  },
  {
   "cell_type": "markdown",
   "id": "47b413cc",
   "metadata": {},
   "source": [
    "### Qual é a média, mediana, 25 percentil, 75 percentil, mínimo e máximo de cada uma das colunas numéricas? "
   ]
  },
  {
   "cell_type": "code",
   "execution_count": 31,
   "id": "ae1c5746",
   "metadata": {},
   "outputs": [
    {
     "data": {
      "text/html": [
       "<div>\n",
       "<style scoped>\n",
       "    .dataframe tbody tr th:only-of-type {\n",
       "        vertical-align: middle;\n",
       "    }\n",
       "\n",
       "    .dataframe tbody tr th {\n",
       "        vertical-align: top;\n",
       "    }\n",
       "\n",
       "    .dataframe thead th {\n",
       "        text-align: right;\n",
       "    }\n",
       "</style>\n",
       "<table border=\"1\" class=\"dataframe\">\n",
       "  <thead>\n",
       "    <tr style=\"text-align: right;\">\n",
       "      <th></th>\n",
       "      <th>Income</th>\n",
       "      <th>Kidhome</th>\n",
       "      <th>Teenhome</th>\n",
       "      <th>Recency</th>\n",
       "      <th>MntWines</th>\n",
       "      <th>MntFruits</th>\n",
       "      <th>MntMeatProducts</th>\n",
       "      <th>MntFishProducts</th>\n",
       "      <th>MntSweetProducts</th>\n",
       "      <th>MntGoldProds</th>\n",
       "      <th>...</th>\n",
       "      <th>education_2n Cycle</th>\n",
       "      <th>education_Basic</th>\n",
       "      <th>education_Graduation</th>\n",
       "      <th>education_Master</th>\n",
       "      <th>education_PhD</th>\n",
       "      <th>MntTotal</th>\n",
       "      <th>MntRegularProds</th>\n",
       "      <th>AcceptedCmpOverall</th>\n",
       "      <th>kids</th>\n",
       "      <th>expenses</th>\n",
       "    </tr>\n",
       "  </thead>\n",
       "  <tbody>\n",
       "    <tr>\n",
       "      <th>count</th>\n",
       "      <td>2205.000000</td>\n",
       "      <td>2205.000000</td>\n",
       "      <td>2205.000000</td>\n",
       "      <td>2205.000000</td>\n",
       "      <td>2205.000000</td>\n",
       "      <td>2205.000000</td>\n",
       "      <td>2205.000000</td>\n",
       "      <td>2205.000000</td>\n",
       "      <td>2205.000000</td>\n",
       "      <td>2205.000000</td>\n",
       "      <td>...</td>\n",
       "      <td>198.0</td>\n",
       "      <td>54.0</td>\n",
       "      <td>1113.0</td>\n",
       "      <td>364.0</td>\n",
       "      <td>476.0</td>\n",
       "      <td>2205.000000</td>\n",
       "      <td>2205.000000</td>\n",
       "      <td>2205.00000</td>\n",
       "      <td>2205.000000</td>\n",
       "      <td>2205.000000</td>\n",
       "    </tr>\n",
       "    <tr>\n",
       "      <th>mean</th>\n",
       "      <td>51622.094785</td>\n",
       "      <td>0.442177</td>\n",
       "      <td>0.506576</td>\n",
       "      <td>49.009070</td>\n",
       "      <td>306.164626</td>\n",
       "      <td>26.403175</td>\n",
       "      <td>165.312018</td>\n",
       "      <td>37.756463</td>\n",
       "      <td>27.128345</td>\n",
       "      <td>44.057143</td>\n",
       "      <td>...</td>\n",
       "      <td>1.0</td>\n",
       "      <td>2.0</td>\n",
       "      <td>3.0</td>\n",
       "      <td>4.0</td>\n",
       "      <td>5.0</td>\n",
       "      <td>562.764626</td>\n",
       "      <td>518.707483</td>\n",
       "      <td>0.29932</td>\n",
       "      <td>0.948753</td>\n",
       "      <td>562.764626</td>\n",
       "    </tr>\n",
       "    <tr>\n",
       "      <th>std</th>\n",
       "      <td>20713.063826</td>\n",
       "      <td>0.537132</td>\n",
       "      <td>0.544380</td>\n",
       "      <td>28.932111</td>\n",
       "      <td>337.493839</td>\n",
       "      <td>39.784484</td>\n",
       "      <td>217.784507</td>\n",
       "      <td>54.824635</td>\n",
       "      <td>41.130468</td>\n",
       "      <td>51.736211</td>\n",
       "      <td>...</td>\n",
       "      <td>0.0</td>\n",
       "      <td>0.0</td>\n",
       "      <td>0.0</td>\n",
       "      <td>0.0</td>\n",
       "      <td>0.0</td>\n",
       "      <td>575.936911</td>\n",
       "      <td>553.847248</td>\n",
       "      <td>0.68044</td>\n",
       "      <td>0.749231</td>\n",
       "      <td>575.936911</td>\n",
       "    </tr>\n",
       "    <tr>\n",
       "      <th>min</th>\n",
       "      <td>1730.000000</td>\n",
       "      <td>0.000000</td>\n",
       "      <td>0.000000</td>\n",
       "      <td>0.000000</td>\n",
       "      <td>0.000000</td>\n",
       "      <td>0.000000</td>\n",
       "      <td>0.000000</td>\n",
       "      <td>0.000000</td>\n",
       "      <td>0.000000</td>\n",
       "      <td>0.000000</td>\n",
       "      <td>...</td>\n",
       "      <td>1.0</td>\n",
       "      <td>2.0</td>\n",
       "      <td>3.0</td>\n",
       "      <td>4.0</td>\n",
       "      <td>5.0</td>\n",
       "      <td>4.000000</td>\n",
       "      <td>-283.000000</td>\n",
       "      <td>0.00000</td>\n",
       "      <td>0.000000</td>\n",
       "      <td>4.000000</td>\n",
       "    </tr>\n",
       "    <tr>\n",
       "      <th>25%</th>\n",
       "      <td>35196.000000</td>\n",
       "      <td>0.000000</td>\n",
       "      <td>0.000000</td>\n",
       "      <td>24.000000</td>\n",
       "      <td>24.000000</td>\n",
       "      <td>2.000000</td>\n",
       "      <td>16.000000</td>\n",
       "      <td>3.000000</td>\n",
       "      <td>1.000000</td>\n",
       "      <td>9.000000</td>\n",
       "      <td>...</td>\n",
       "      <td>1.0</td>\n",
       "      <td>2.0</td>\n",
       "      <td>3.0</td>\n",
       "      <td>4.0</td>\n",
       "      <td>5.0</td>\n",
       "      <td>56.000000</td>\n",
       "      <td>42.000000</td>\n",
       "      <td>0.00000</td>\n",
       "      <td>0.000000</td>\n",
       "      <td>56.000000</td>\n",
       "    </tr>\n",
       "    <tr>\n",
       "      <th>50%</th>\n",
       "      <td>51287.000000</td>\n",
       "      <td>0.000000</td>\n",
       "      <td>0.000000</td>\n",
       "      <td>49.000000</td>\n",
       "      <td>178.000000</td>\n",
       "      <td>8.000000</td>\n",
       "      <td>68.000000</td>\n",
       "      <td>12.000000</td>\n",
       "      <td>8.000000</td>\n",
       "      <td>25.000000</td>\n",
       "      <td>...</td>\n",
       "      <td>1.0</td>\n",
       "      <td>2.0</td>\n",
       "      <td>3.0</td>\n",
       "      <td>4.0</td>\n",
       "      <td>5.0</td>\n",
       "      <td>343.000000</td>\n",
       "      <td>288.000000</td>\n",
       "      <td>0.00000</td>\n",
       "      <td>1.000000</td>\n",
       "      <td>343.000000</td>\n",
       "    </tr>\n",
       "    <tr>\n",
       "      <th>75%</th>\n",
       "      <td>68281.000000</td>\n",
       "      <td>1.000000</td>\n",
       "      <td>1.000000</td>\n",
       "      <td>74.000000</td>\n",
       "      <td>507.000000</td>\n",
       "      <td>33.000000</td>\n",
       "      <td>232.000000</td>\n",
       "      <td>50.000000</td>\n",
       "      <td>34.000000</td>\n",
       "      <td>56.000000</td>\n",
       "      <td>...</td>\n",
       "      <td>1.0</td>\n",
       "      <td>2.0</td>\n",
       "      <td>3.0</td>\n",
       "      <td>4.0</td>\n",
       "      <td>5.0</td>\n",
       "      <td>964.000000</td>\n",
       "      <td>884.000000</td>\n",
       "      <td>0.00000</td>\n",
       "      <td>1.000000</td>\n",
       "      <td>964.000000</td>\n",
       "    </tr>\n",
       "    <tr>\n",
       "      <th>max</th>\n",
       "      <td>113734.000000</td>\n",
       "      <td>2.000000</td>\n",
       "      <td>2.000000</td>\n",
       "      <td>99.000000</td>\n",
       "      <td>1493.000000</td>\n",
       "      <td>199.000000</td>\n",
       "      <td>1725.000000</td>\n",
       "      <td>259.000000</td>\n",
       "      <td>262.000000</td>\n",
       "      <td>321.000000</td>\n",
       "      <td>...</td>\n",
       "      <td>1.0</td>\n",
       "      <td>2.0</td>\n",
       "      <td>3.0</td>\n",
       "      <td>4.0</td>\n",
       "      <td>5.0</td>\n",
       "      <td>2491.000000</td>\n",
       "      <td>2458.000000</td>\n",
       "      <td>4.00000</td>\n",
       "      <td>3.000000</td>\n",
       "      <td>2491.000000</td>\n",
       "    </tr>\n",
       "  </tbody>\n",
       "</table>\n",
       "<p>8 rows × 41 columns</p>\n",
       "</div>"
      ],
      "text/plain": [
       "              Income      Kidhome     Teenhome      Recency     MntWines  \\\n",
       "count    2205.000000  2205.000000  2205.000000  2205.000000  2205.000000   \n",
       "mean    51622.094785     0.442177     0.506576    49.009070   306.164626   \n",
       "std     20713.063826     0.537132     0.544380    28.932111   337.493839   \n",
       "min      1730.000000     0.000000     0.000000     0.000000     0.000000   \n",
       "25%     35196.000000     0.000000     0.000000    24.000000    24.000000   \n",
       "50%     51287.000000     0.000000     0.000000    49.000000   178.000000   \n",
       "75%     68281.000000     1.000000     1.000000    74.000000   507.000000   \n",
       "max    113734.000000     2.000000     2.000000    99.000000  1493.000000   \n",
       "\n",
       "         MntFruits  MntMeatProducts  MntFishProducts  MntSweetProducts  \\\n",
       "count  2205.000000      2205.000000      2205.000000       2205.000000   \n",
       "mean     26.403175       165.312018        37.756463         27.128345   \n",
       "std      39.784484       217.784507        54.824635         41.130468   \n",
       "min       0.000000         0.000000         0.000000          0.000000   \n",
       "25%       2.000000        16.000000         3.000000          1.000000   \n",
       "50%       8.000000        68.000000        12.000000          8.000000   \n",
       "75%      33.000000       232.000000        50.000000         34.000000   \n",
       "max     199.000000      1725.000000       259.000000        262.000000   \n",
       "\n",
       "       MntGoldProds  ...  education_2n Cycle  education_Basic  \\\n",
       "count   2205.000000  ...               198.0             54.0   \n",
       "mean      44.057143  ...                 1.0              2.0   \n",
       "std       51.736211  ...                 0.0              0.0   \n",
       "min        0.000000  ...                 1.0              2.0   \n",
       "25%        9.000000  ...                 1.0              2.0   \n",
       "50%       25.000000  ...                 1.0              2.0   \n",
       "75%       56.000000  ...                 1.0              2.0   \n",
       "max      321.000000  ...                 1.0              2.0   \n",
       "\n",
       "       education_Graduation  education_Master  education_PhD     MntTotal  \\\n",
       "count                1113.0             364.0          476.0  2205.000000   \n",
       "mean                    3.0               4.0            5.0   562.764626   \n",
       "std                     0.0               0.0            0.0   575.936911   \n",
       "min                     3.0               4.0            5.0     4.000000   \n",
       "25%                     3.0               4.0            5.0    56.000000   \n",
       "50%                     3.0               4.0            5.0   343.000000   \n",
       "75%                     3.0               4.0            5.0   964.000000   \n",
       "max                     3.0               4.0            5.0  2491.000000   \n",
       "\n",
       "       MntRegularProds  AcceptedCmpOverall         kids     expenses  \n",
       "count      2205.000000          2205.00000  2205.000000  2205.000000  \n",
       "mean        518.707483             0.29932     0.948753   562.764626  \n",
       "std         553.847248             0.68044     0.749231   575.936911  \n",
       "min        -283.000000             0.00000     0.000000     4.000000  \n",
       "25%          42.000000             0.00000     0.000000    56.000000  \n",
       "50%         288.000000             0.00000     1.000000   343.000000  \n",
       "75%         884.000000             0.00000     1.000000   964.000000  \n",
       "max        2458.000000             4.00000     3.000000  2491.000000  \n",
       "\n",
       "[8 rows x 41 columns]"
      ]
     },
     "execution_count": 31,
     "metadata": {},
     "output_type": "execute_result"
    }
   ],
   "source": [
    "# Descrevendo as medidas de estatística descritiva\n",
    "df[['Income', 'Kidhome', 'Teenhome', 'Recency', 'MntWines',\n",
    "       'MntFruits', 'MntMeatProducts', 'MntFishProducts', 'MntSweetProducts',\n",
    "       'MntGoldProds', 'NumDealsPurchases', 'NumWebPurchases',\n",
    "       'NumCatalogPurchases', 'NumStorePurchases', 'NumWebVisitsMonth',\n",
    "       'AcceptedCmp3', 'AcceptedCmp4', 'AcceptedCmp5', 'AcceptedCmp1',\n",
    "       'AcceptedCmp2', 'Complain', 'Z_CostContact', 'Z_Revenue', 'Response',\n",
    "       'Age', 'Customer_Days', 'marital_Divorced', 'marital_Married',\n",
    "       'marital_Single', 'marital_Together', 'marital_Widow', 'education_2n Cycle','education_Basic', 'education_Graduation',\n",
    "       'education_Master', 'education_PhD', 'MntTotal', 'MntRegularProds',\n",
    "       'AcceptedCmpOverall', 'kids', 'expenses']].describe()"
   ]
  },
  {
   "cell_type": "markdown",
   "id": "4688b7cd",
   "metadata": {},
   "source": [
    "Onde:\n",
    "- Média        = mean \n",
    "- Mediana      = 50 % \n",
    "- 25 percentil = 25% \n",
    "- 75 percentil = 75 % \n",
    "- Mínimo       = min \n",
    "- Máximo       = max "
   ]
  },
  {
   "cell_type": "markdown",
   "id": "517bf99f",
   "metadata": {
    "jp-MarkdownHeadingCollapsed": true
   },
   "source": [
    "## - Entendendo o perfil de clientes "
   ]
  },
  {
   "cell_type": "markdown",
   "id": "12c70011",
   "metadata": {},
   "source": [
    "### Qual é o maior salário encontrado na nossa base?"
   ]
  },
  {
   "cell_type": "code",
   "execution_count": 35,
   "id": "57be62f5",
   "metadata": {},
   "outputs": [
    {
     "data": {
      "text/html": [
       "<div>\n",
       "<style scoped>\n",
       "    .dataframe tbody tr th:only-of-type {\n",
       "        vertical-align: middle;\n",
       "    }\n",
       "\n",
       "    .dataframe tbody tr th {\n",
       "        vertical-align: top;\n",
       "    }\n",
       "\n",
       "    .dataframe thead th {\n",
       "        text-align: right;\n",
       "    }\n",
       "</style>\n",
       "<table border=\"1\" class=\"dataframe\">\n",
       "  <thead>\n",
       "    <tr style=\"text-align: right;\">\n",
       "      <th></th>\n",
       "      <th>Income</th>\n",
       "    </tr>\n",
       "  </thead>\n",
       "  <tbody>\n",
       "    <tr>\n",
       "      <th>count</th>\n",
       "      <td>2205.000000</td>\n",
       "    </tr>\n",
       "    <tr>\n",
       "      <th>mean</th>\n",
       "      <td>51622.094785</td>\n",
       "    </tr>\n",
       "    <tr>\n",
       "      <th>std</th>\n",
       "      <td>20713.063826</td>\n",
       "    </tr>\n",
       "    <tr>\n",
       "      <th>min</th>\n",
       "      <td>1730.000000</td>\n",
       "    </tr>\n",
       "    <tr>\n",
       "      <th>25%</th>\n",
       "      <td>35196.000000</td>\n",
       "    </tr>\n",
       "    <tr>\n",
       "      <th>50%</th>\n",
       "      <td>51287.000000</td>\n",
       "    </tr>\n",
       "    <tr>\n",
       "      <th>75%</th>\n",
       "      <td>68281.000000</td>\n",
       "    </tr>\n",
       "    <tr>\n",
       "      <th>max</th>\n",
       "      <td>113734.000000</td>\n",
       "    </tr>\n",
       "  </tbody>\n",
       "</table>\n",
       "</div>"
      ],
      "text/plain": [
       "              Income\n",
       "count    2205.000000\n",
       "mean    51622.094785\n",
       "std     20713.063826\n",
       "min      1730.000000\n",
       "25%     35196.000000\n",
       "50%     51287.000000\n",
       "75%     68281.000000\n",
       "max    113734.000000"
      ]
     },
     "execution_count": 35,
     "metadata": {},
     "output_type": "execute_result"
    }
   ],
   "source": [
    "df[[\"Income\"]].describe()"
   ]
  },
  {
   "cell_type": "markdown",
   "id": "275ea12b",
   "metadata": {},
   "source": [
    "O maior salário é de 113,734.00"
   ]
  },
  {
   "cell_type": "markdown",
   "id": "3b5cc879",
   "metadata": {},
   "source": [
    "### Qual é a distribuição de salário na nossa base? Temos clientes que ganham muito bem e outros que não ganham muito bem?"
   ]
  },
  {
   "cell_type": "code",
   "execution_count": 38,
   "id": "5bb8d229",
   "metadata": {},
   "outputs": [
    {
     "data": {
      "text/plain": [
       "(array([ 37., 185., 333., 398., 351., 366., 331., 173.,  28.,   3.]),\n",
       " array([  1730. ,  12930.4,  24130.8,  35331.2,  46531.6,  57732. ,\n",
       "         68932.4,  80132.8,  91333.2, 102533.6, 113734. ]),\n",
       " <BarContainer object of 10 artists>)"
      ]
     },
     "execution_count": 38,
     "metadata": {},
     "output_type": "execute_result"
    },
    {
     "data": {
      "image/png": "[encoded data removed]",
      "text/plain": [
       "<Figure size 640x480 with 1 Axes>"
      ]
     },
     "metadata": {},
     "output_type": "display_data"
    }
   ],
   "source": [
    "# Histograma da coluna Income, para verificar a distribuição de salários dos clientes, utilizando a biblioteca matplotlib.pyplot \n",
    "plt.hist(df[\"Income\"], bins = 10)"
   ]
  },
  {
   "cell_type": "code",
   "execution_count": 39,
   "id": "5b385d68",
   "metadata": {},
   "outputs": [
    {
     "data": {
      "text/plain": [
       "<Axes: >"
      ]
     },
     "execution_count": 39,
     "metadata": {},
     "output_type": "execute_result"
    },
    {
     "data": {
      "image/png": "[encoded data removed]",
      "text/plain": [
       "<Figure size 640x480 with 1 Axes>"
      ]
     },
     "metadata": {},
     "output_type": "display_data"
    }
   ],
   "source": [
    "# Boxplot da coluna Income, para verificar a distribuição de salários dos clientes, utilizando a biblioteca seaborn \n",
    "sns.boxplot(df[\"Income\"])"
   ]
  },
  {
   "cell_type": "code",
   "execution_count": 40,
   "id": "ee5f2350",
   "metadata": {},
   "outputs": [
    {
     "data": {
      "text/plain": [
       "40.12441554786958"
      ]
     },
     "execution_count": 40,
     "metadata": {},
     "output_type": "execute_result"
    }
   ],
   "source": [
    "# Cálculo do coeficiente de variação (CV)\n",
    "df[\"Income\"].std()/df[\"Income\"].mean() * 100"
   ]
  },
  {
   "cell_type": "code",
   "execution_count": 41,
   "id": "711368a9",
   "metadata": {},
   "outputs": [
    {
     "data": {
      "text/plain": [
       "0.013164263414417078"
      ]
     },
     "execution_count": 41,
     "metadata": {},
     "output_type": "execute_result"
    }
   ],
   "source": [
    "# Cálculo do skew (assimetria), onde skew = 0 = simétrica/normal, skew > 0 = assimétrica positivo e skew < 0 = assimétrica negativa \n",
    "df[\"Income\"].skew() "
   ]
  },
  {
   "cell_type": "markdown",
   "id": "97c2bea9",
   "metadata": {},
   "source": [
    "De acordo com o histograma e o skew, verificamos que a curva de distribuição se assemelha à uma normal. Ou seja, poucos clientes ganham muito assim como poucos ganham pouco.\n",
    "O boxplot não acusa outliers, porém há uma dispersão relativamente alta dos dados em relação à média (40%)."
   ]
  },
  {
   "cell_type": "markdown",
   "id": "afe808ca",
   "metadata": {},
   "source": [
    "### Nossos clientes tem níveis de educação maiores ou menores?"
   ]
  },
  {
   "cell_type": "code",
   "execution_count": 44,
   "id": "f4f531b0",
   "metadata": {},
   "outputs": [
    {
     "data": {
      "text/plain": [
       "<Axes: xlabel='education_level', ylabel='count'>"
      ]
     },
     "execution_count": 44,
     "metadata": {},
     "output_type": "execute_result"
    },
    {
     "data": {
      "image/png": "[encoded data removed]",
      "text/plain": [
       "<Figure size 640x480 with 1 Axes>"
      ]
     },
     "metadata": {},
     "output_type": "display_data"
    }
   ],
   "source": [
    "# Gráfico de barras do nível educacional dos clientes\n",
    "sns.countplot(x=df[\"education_level\"])"
   ]
  },
  {
   "cell_type": "markdown",
   "id": "71342f99",
   "metadata": {},
   "source": [
    "De acordo com o gráfico, a maior parte dos clientes possui, no mínimo, a graduação completa. Poucos clientes possuem somente o nível básico de ensino. Sendo assim, de modo geral, os cliente possuem níveis educacionais maiores."
   ]
  },
  {
   "cell_type": "markdown",
   "id": "b3634b88",
   "metadata": {},
   "source": [
    "### Quantos clientes temos em cada estado civil?"
   ]
  },
  {
   "cell_type": "code",
   "execution_count": 47,
   "id": "0057b424",
   "metadata": {},
   "outputs": [
    {
     "data": {
      "text/plain": [
       "<Axes: xlabel='marital_status', ylabel='count'>"
      ]
     },
     "execution_count": 47,
     "metadata": {},
     "output_type": "execute_result"
    },
    {
     "data": {
      "image/png": "[encoded data removed]",
      "text/plain": [
       "<Figure size 640x480 with 1 Axes>"
      ]
     },
     "metadata": {},
     "output_type": "display_data"
    }
   ],
   "source": [
    "# Gráfico de barras do estado civil dos clientes\n",
    "sns.countplot(x=df[\"marital_status\"])"
   ]
  },
  {
   "cell_type": "code",
   "execution_count": 48,
   "id": "de01b3ab",
   "metadata": {},
   "outputs": [],
   "source": [
    "# Criação de variável para armazenar a quantidade de clientes para cada estado civil\n",
    "marital_count = df.marital_status.value_counts()"
   ]
  },
  {
   "cell_type": "code",
   "execution_count": 49,
   "id": "d81ce744",
   "metadata": {},
   "outputs": [
    {
     "name": "stdout",
     "output_type": "stream",
     "text": [
      "marital_status\n",
      "Married     38.730159\n",
      "Together    25.759637\n",
      "Single      21.632653\n",
      "Divorced    10.430839\n",
      "Widow        3.446712\n",
      "Name: count, dtype: float64\n"
     ]
    }
   ],
   "source": [
    "# Cálculo da porcentagem de clientes para cada estado civil\n",
    "marital_percent = marital_count / len(df) * 100\n",
    "print(marital_percent)"
   ]
  },
  {
   "cell_type": "markdown",
   "id": "f621691c",
   "metadata": {},
   "source": [
    "É possível verificar que a maior parte dos clientes (64,5%) possui uma união estável, são casados (Married - 38,7%) ou moram juntos (Together - 25,7%). Apenas 3,4% dos clientes são viúvos (Widow). "
   ]
  },
  {
   "cell_type": "markdown",
   "id": "775361c4",
   "metadata": {
    "jp-MarkdownHeadingCollapsed": true
   },
   "source": [
    "## - Correlação dos dados"
   ]
  },
  {
   "cell_type": "markdown",
   "id": "b385af2d",
   "metadata": {},
   "source": [
    "### Qual é a relação de estado civil com número de filhos? Será que as pessoas casadas têm um maior número de filhos?"
   ]
  },
  {
   "cell_type": "code",
   "execution_count": 53,
   "id": "d2ac6c18",
   "metadata": {},
   "outputs": [
    {
     "data": {
      "text/plain": [
       "<Axes: xlabel='marital_status', ylabel='kids'>"
      ]
     },
     "execution_count": 53,
     "metadata": {},
     "output_type": "execute_result"
    },
    {
     "data": {
      "image/png": "[encoded data removed]",
      "text/plain": [
       "<Figure size 640x480 with 1 Axes>"
      ]
     },
     "metadata": {},
     "output_type": "display_data"
    }
   ],
   "source": [
    "# Distribuição da quantidade de filhos nos diferentes estados civis\n",
    "sns.boxplot(x = \"marital_status\", y = \"kids\", data = df)"
   ]
  },
  {
   "cell_type": "code",
   "execution_count": 54,
   "id": "6bc12f48",
   "metadata": {},
   "outputs": [
    {
     "data": {
      "text/html": [
       "<div>\n",
       "<style scoped>\n",
       "    .dataframe tbody tr th:only-of-type {\n",
       "        vertical-align: middle;\n",
       "    }\n",
       "\n",
       "    .dataframe tbody tr th {\n",
       "        vertical-align: top;\n",
       "    }\n",
       "\n",
       "    .dataframe thead th {\n",
       "        text-align: right;\n",
       "    }\n",
       "</style>\n",
       "<table border=\"1\" class=\"dataframe\">\n",
       "  <thead>\n",
       "    <tr style=\"text-align: right;\">\n",
       "      <th></th>\n",
       "      <th>count</th>\n",
       "      <th>mean</th>\n",
       "      <th>std</th>\n",
       "      <th>min</th>\n",
       "      <th>25%</th>\n",
       "      <th>50%</th>\n",
       "      <th>75%</th>\n",
       "      <th>max</th>\n",
       "    </tr>\n",
       "    <tr>\n",
       "      <th>marital_status</th>\n",
       "      <th></th>\n",
       "      <th></th>\n",
       "      <th></th>\n",
       "      <th></th>\n",
       "      <th></th>\n",
       "      <th></th>\n",
       "      <th></th>\n",
       "      <th></th>\n",
       "    </tr>\n",
       "  </thead>\n",
       "  <tbody>\n",
       "    <tr>\n",
       "      <th>Divorced</th>\n",
       "      <td>230.0</td>\n",
       "      <td>1.008696</td>\n",
       "      <td>0.741716</td>\n",
       "      <td>0.0</td>\n",
       "      <td>1.0</td>\n",
       "      <td>1.0</td>\n",
       "      <td>1.0</td>\n",
       "      <td>3.0</td>\n",
       "    </tr>\n",
       "    <tr>\n",
       "      <th>Married</th>\n",
       "      <td>854.0</td>\n",
       "      <td>0.967213</td>\n",
       "      <td>0.732019</td>\n",
       "      <td>0.0</td>\n",
       "      <td>0.0</td>\n",
       "      <td>1.0</td>\n",
       "      <td>1.0</td>\n",
       "      <td>3.0</td>\n",
       "    </tr>\n",
       "    <tr>\n",
       "      <th>Single</th>\n",
       "      <td>477.0</td>\n",
       "      <td>0.859539</td>\n",
       "      <td>0.777289</td>\n",
       "      <td>0.0</td>\n",
       "      <td>0.0</td>\n",
       "      <td>1.0</td>\n",
       "      <td>1.0</td>\n",
       "      <td>3.0</td>\n",
       "    </tr>\n",
       "    <tr>\n",
       "      <th>Together</th>\n",
       "      <td>568.0</td>\n",
       "      <td>0.980634</td>\n",
       "      <td>0.749823</td>\n",
       "      <td>0.0</td>\n",
       "      <td>0.0</td>\n",
       "      <td>1.0</td>\n",
       "      <td>1.0</td>\n",
       "      <td>3.0</td>\n",
       "    </tr>\n",
       "    <tr>\n",
       "      <th>Widow</th>\n",
       "      <td>76.0</td>\n",
       "      <td>0.881579</td>\n",
       "      <td>0.747745</td>\n",
       "      <td>0.0</td>\n",
       "      <td>0.0</td>\n",
       "      <td>1.0</td>\n",
       "      <td>1.0</td>\n",
       "      <td>2.0</td>\n",
       "    </tr>\n",
       "  </tbody>\n",
       "</table>\n",
       "</div>"
      ],
      "text/plain": [
       "                count      mean       std  min  25%  50%  75%  max\n",
       "marital_status                                                    \n",
       "Divorced        230.0  1.008696  0.741716  0.0  1.0  1.0  1.0  3.0\n",
       "Married         854.0  0.967213  0.732019  0.0  0.0  1.0  1.0  3.0\n",
       "Single          477.0  0.859539  0.777289  0.0  0.0  1.0  1.0  3.0\n",
       "Together        568.0  0.980634  0.749823  0.0  0.0  1.0  1.0  3.0\n",
       "Widow            76.0  0.881579  0.747745  0.0  0.0  1.0  1.0  2.0"
      ]
     },
     "execution_count": 54,
     "metadata": {},
     "output_type": "execute_result"
    }
   ],
   "source": [
    "# Descrevendo as medidas de estatística descritiva agrupadas das colunas de estado civíl e quantidade de filhos\n",
    "df.groupby([\"marital_status\"])[\"kids\"].describe()"
   ]
  },
  {
   "cell_type": "markdown",
   "id": "36522abf",
   "metadata": {},
   "source": [
    "O boxplot demonstra distribuições muito semelhantes de quantidade de filhos em todas as categorias de estado civil, exceto no grupo de divorciados (Divorced), onde a maior parte dos dados dessa categoria se concentra no valor 1, fazendo com que os demais valores sejam percebidos como outliers.\n",
    "\n",
    "A mediana de todas as categorias é igual, e as médias muito próximas.\n",
    "\n",
    "Baseado apenas na média, o grupo de solteiros (Single) possui a menor média de filhos, enquanto o grupo de divorciados (Divorced) possui a maior média de filhos.\n",
    "\n",
    "Porém, as diferenças concretas entre os grupos só poderiam ser discriminadas através de testes de hipótese."
   ]
  },
  {
   "cell_type": "markdown",
   "id": "de734eee",
   "metadata": {},
   "source": [
    "### As pessoas gastam mais ou menos em nossa plataforma quando têm filhos?"
   ]
  },
  {
   "cell_type": "code",
   "execution_count": 57,
   "id": "393c5d75",
   "metadata": {},
   "outputs": [
    {
     "data": {
      "text/plain": [
       "<Axes: xlabel='kids', ylabel='expenses'>"
      ]
     },
     "execution_count": 57,
     "metadata": {},
     "output_type": "execute_result"
    },
    {
     "data": {
      "image/png": "[encoded data removed]",
      "text/plain": [
       "<Figure size 640x480 with 1 Axes>"
      ]
     },
     "metadata": {},
     "output_type": "display_data"
    }
   ],
   "source": [
    "# Distribuição dos gastos de acordo com a quantidade de filhos\n",
    "sns.boxplot(x = \"kids\", y = \"expenses\", data = df)"
   ]
  },
  {
   "cell_type": "code",
   "execution_count": 58,
   "id": "389957db",
   "metadata": {},
   "outputs": [
    {
     "data": {
      "text/html": [
       "<div>\n",
       "<style scoped>\n",
       "    .dataframe tbody tr th:only-of-type {\n",
       "        vertical-align: middle;\n",
       "    }\n",
       "\n",
       "    .dataframe tbody tr th {\n",
       "        vertical-align: top;\n",
       "    }\n",
       "\n",
       "    .dataframe thead th {\n",
       "        text-align: right;\n",
       "    }\n",
       "</style>\n",
       "<table border=\"1\" class=\"dataframe\">\n",
       "  <thead>\n",
       "    <tr style=\"text-align: right;\">\n",
       "      <th></th>\n",
       "      <th>count</th>\n",
       "      <th>mean</th>\n",
       "      <th>std</th>\n",
       "      <th>min</th>\n",
       "      <th>25%</th>\n",
       "      <th>50%</th>\n",
       "      <th>75%</th>\n",
       "      <th>max</th>\n",
       "    </tr>\n",
       "    <tr>\n",
       "      <th>kids</th>\n",
       "      <th></th>\n",
       "      <th></th>\n",
       "      <th></th>\n",
       "      <th></th>\n",
       "      <th></th>\n",
       "      <th></th>\n",
       "      <th></th>\n",
       "      <th></th>\n",
       "    </tr>\n",
       "  </thead>\n",
       "  <tbody>\n",
       "    <tr>\n",
       "      <th>0</th>\n",
       "      <td>628.0</td>\n",
       "      <td>1041.207006</td>\n",
       "      <td>625.734894</td>\n",
       "      <td>5.0</td>\n",
       "      <td>546.00</td>\n",
       "      <td>1106.5</td>\n",
       "      <td>1505.50</td>\n",
       "      <td>2491.0</td>\n",
       "    </tr>\n",
       "    <tr>\n",
       "      <th>1</th>\n",
       "      <td>1112.0</td>\n",
       "      <td>434.530576</td>\n",
       "      <td>452.606603</td>\n",
       "      <td>4.0</td>\n",
       "      <td>50.00</td>\n",
       "      <td>264.0</td>\n",
       "      <td>762.25</td>\n",
       "      <td>2036.0</td>\n",
       "    </tr>\n",
       "    <tr>\n",
       "      <th>2</th>\n",
       "      <td>415.0</td>\n",
       "      <td>221.568675</td>\n",
       "      <td>290.259678</td>\n",
       "      <td>8.0</td>\n",
       "      <td>39.00</td>\n",
       "      <td>84.0</td>\n",
       "      <td>296.50</td>\n",
       "      <td>1627.0</td>\n",
       "    </tr>\n",
       "    <tr>\n",
       "      <th>3</th>\n",
       "      <td>50.0</td>\n",
       "      <td>237.380000</td>\n",
       "      <td>390.174157</td>\n",
       "      <td>6.0</td>\n",
       "      <td>28.25</td>\n",
       "      <td>62.0</td>\n",
       "      <td>254.00</td>\n",
       "      <td>1601.0</td>\n",
       "    </tr>\n",
       "  </tbody>\n",
       "</table>\n",
       "</div>"
      ],
      "text/plain": [
       "       count         mean         std  min     25%     50%      75%     max\n",
       "kids                                                                       \n",
       "0      628.0  1041.207006  625.734894  5.0  546.00  1106.5  1505.50  2491.0\n",
       "1     1112.0   434.530576  452.606603  4.0   50.00   264.0   762.25  2036.0\n",
       "2      415.0   221.568675  290.259678  8.0   39.00    84.0   296.50  1627.0\n",
       "3       50.0   237.380000  390.174157  6.0   28.25    62.0   254.00  1601.0"
      ]
     },
     "execution_count": 58,
     "metadata": {},
     "output_type": "execute_result"
    }
   ],
   "source": [
    "# Descrevendo as medidas de estatística descritiva agrupadas das colunas de quantidade de filhos e gasto\n",
    "df.groupby([\"kids\"])[\"expenses\"].describe()"
   ]
  },
  {
   "cell_type": "markdown",
   "id": "b5ec695b",
   "metadata": {},
   "source": [
    "Avaliando o gráfico, médias e medianas, pessoas que não possuem filhos tendem a ter um gasto maior na plataforma, com uma distribuição aparentemente mais próxima de uma normal.\n",
    "\n",
    "Nota-se que os grupos com 2 e 3 filhos possuem médias muito superior à mediana, indício de presença de outliers acima do limite superior, que podem ser verificados no gráfico. O grupo com apenas 1 filho também possui essa característica, porém de forma menos acentuada.\n",
    "\n",
    "O grupo com 3 filhos possui uma média maior que o grupo com 2 filhos, enquanto nos valores de mediana, a situação inverte. Esse efeito se dá pela presença de outliers de valores altos que deslocam a média para cima."
   ]
  },
  {
   "cell_type": "markdown",
   "id": "954e446c",
   "metadata": {},
   "source": [
    "### Pessoas que têm um maior salário gastam mais?"
   ]
  },
  {
   "cell_type": "code",
   "execution_count": 61,
   "id": "f8c8c87b",
   "metadata": {},
   "outputs": [
    {
     "data": {
      "image/png": "[encoded data removed]",
      "text/plain": [
       "<Figure size 640x480 with 1 Axes>"
      ]
     },
     "metadata": {},
     "output_type": "display_data"
    }
   ],
   "source": [
    "# Gráfico de dispersão de gastos vs salário\n",
    "plt.scatter(df[\"expenses\"], df[\"Income\"])\n",
    "plt.xlabel(\"Expenses\")\n",
    "plt.ylabel(\"Income\")\n",
    "plt.show()"
   ]
  },
  {
   "cell_type": "markdown",
   "id": "7a23760c",
   "metadata": {},
   "source": [
    "A partir da forma como os dados se distribuem no gráfico é possível observar uma provável correlação diretamente proporcional. Ou seja, há uma tendência maior de gastos quanto maior o salário."
   ]
  },
  {
   "cell_type": "markdown",
   "id": "c52155b8",
   "metadata": {},
   "source": [
    "### Conclusões"
   ]
  },
  {
   "cell_type": "markdown",
   "id": "5c73ca47",
   "metadata": {},
   "source": [
    "Possuímos uma base de clientes com salários distribuídos de forma quase normal, onde poucos clientes ganham muito e poucos clientes ganham pouco. A partir da observação gráfica da relação entre gastos (expenses) e salário (Income), é possível verificar uma relação diretamente proporcional. No geral, a maioria dos clientes possui um nível elevado de educação (education_level), com no mínimo graduação completa, e poucos clientes concluíram apenas o ensino básico.\n",
    "\n",
    "Apenas com as técnicas de estatística descritiva não é possível definir as diferenças de quantidade de filhos (kids) entre as categorias de estado civil (marital_status), tendo em vista que as médias são muito próximas e os valores de mediana iguais. Sendo assim, para definir as diferenças, se faz necessário o uso de testes de hipótese.\n",
    "\n",
    "Ainda sim, foi possível verificar que o grupo de clientes que não possuem filhos têm uma média de gasto (expenses) maior em relação aos grupos que possuem filhos. E é possível perceber que conforme a quantidade de filhos aumenta, há uma tendência de diminuição dos gastos."
   ]
  },
  {
   "cell_type": "markdown",
   "id": "a9323569",
   "metadata": {},
   "source": [
    "## - Proposta"
   ]
  },
  {
   "cell_type": "markdown",
   "id": "325f2bc3-437c-4dfe-90a8-bd2169ff67d6",
   "metadata": {},
   "source": [
    "Com o intuito de atrair mais clientes, mediante a conclusão de que pessoas sem filhos gastam mais do que pessoas com mais filhos. Nossa equipe de Marketing propôs campanhas direcionadas ao grupo de pessoas com filhos (independente da quantidade), porém existe a necessidade de comprovar se de fato as médias de gastos dos grupos é diferente. Portanto conduziremos duas análises:\n",
    "\n",
    "- **Análise 1:** Comparação da média de gastos de pessoas sem filhos e pessoas com filhos.\n",
    "- **Análise 2:** Comparação dos grupos de pessoas com filhos e verificação da existência de diferenças de gastos (expenses) de quem tem 1, 2, 3 ou mais filhos para que o time de Marketing possam afunilar mais ainda a campanha. A média desses grupos é diferente? Qual(is) tem menor média?"
   ]
  },
  {
   "cell_type": "markdown",
   "id": "15d86c7e-687e-412d-9697-7b83efc2c413",
   "metadata": {},
   "source": [
    "### Definição de hipóteses\n",
    "\n",
    "***Análise 1***\n",
    "- Hipótese nula (H0): média de gastos de pessoas sem filhos = média de gastos de pessoas com filhos\n",
    "- Hipótese alternativa (Ha): média de gastos de pessoas sem filhos ≠ média de gastos de pessoas com filhos\n",
    "\n",
    "***Análise 2***\n",
    "- Hipótese nula (H0): a média de gastos de pessoas com filhos é igual independente da quantidade de filhos.\n",
    "```\n",
    "média de gastos de pessoas com 1 filho = média de gastos de pessoas com 2 filhos = média de gastos de pessoas com 3 filhos\n",
    "```\n",
    "- Hipótese alternativa (Ha): pelo menos uma das médias é diferente.\n",
    "```\n",
    "média de gastos de pessoas com 1 filho ≠ média de gastos de pessoas com 2 filhos ≠ média de gastos de pessoas com 3 filhos\n",
    "```"
   ]
  },
  {
   "cell_type": "markdown",
   "id": "99de8a3e-6649-4a68-ab45-098237d4535d",
   "metadata": {},
   "source": [
    "### Definição do nível de significância (alpha)\n",
    "\n",
    "O nível de significância utilizado será de 5%, o que se traduz em 95% de confiança."
   ]
  },
  {
   "cell_type": "code",
   "execution_count": 69,
   "id": "f65423a0-cccc-4dcf-bc04-62c27cdb6669",
   "metadata": {},
   "outputs": [],
   "source": [
    "alpha = 0.05"
   ]
  },
  {
   "cell_type": "markdown",
   "id": "a4a42590-5d81-4d4a-b4e1-4396442ce813",
   "metadata": {},
   "source": [
    "### Análise 1"
   ]
  },
  {
   "cell_type": "code",
   "execution_count": 71,
   "id": "9dc50620-b9f2-4686-9658-da8448fe11b7",
   "metadata": {},
   "outputs": [],
   "source": [
    "# Criação de uma coluna com os gastos (expenses) de pessoas com filhos\n",
    "df[\"expenses_kids\"] = np.where(df[\"kids\"] != 0, df[\"expenses\"], np.NaN)\n",
    "\n",
    "# Criação de uma coluna com os gastos (expenses) de pessoas sem filhos\n",
    "df[\"expenses_no_kids\"] = np.where(df[\"kids\"] == 0, df[\"expenses\"], np.NaN)"
   ]
  },
  {
   "cell_type": "code",
   "execution_count": 72,
   "id": "1cf3416a-3133-474e-9b00-72ec5fc8dbf5",
   "metadata": {},
   "outputs": [
    {
     "name": "stdout",
     "output_type": "stream",
     "text": [
      "1577\n"
     ]
    }
   ],
   "source": [
    "# Contagem de valores não nulos na coluna expenses_kids\n",
    "num_expenses_kids = df[\"expenses_kids\"].count()\n",
    "print (num_expenses_kids)"
   ]
  },
  {
   "cell_type": "code",
   "execution_count": 73,
   "id": "b05c4b3f-0f5e-410f-8e56-80826d2f08be",
   "metadata": {},
   "outputs": [
    {
     "name": "stdout",
     "output_type": "stream",
     "text": [
      "628\n"
     ]
    }
   ],
   "source": [
    "# Contagem de valores não nulos na coluna expenses_no_kids\n",
    "num_expenses_no_kids = df[\"expenses_no_kids\"].count()\n",
    "print (num_expenses_no_kids)"
   ]
  },
  {
   "cell_type": "code",
   "execution_count": 88,
   "id": "dde5c6ba-8557-4960-a8da-36ecf1ae0146",
   "metadata": {},
   "outputs": [],
   "source": [
    "# Importação do módulo stats da biblioteca scipy para performar os testes de hipóteses\n",
    "import scipy.stats as stats"
   ]
  },
  {
   "cell_type": "code",
   "execution_count": 75,
   "id": "c5e00ede-acd5-465c-907b-b0a9e8f5303a",
   "metadata": {},
   "outputs": [],
   "source": [
    "# Remoção de valores nulos para performance do cálculo estatístico\n",
    "sample_kids = df[\"expenses_kids\"].dropna()\n",
    "sample_no_kids = df[\"expenses_no_kids\"].dropna()"
   ]
  },
  {
   "cell_type": "code",
   "execution_count": 76,
   "id": "8fc99687-26ff-4232-98a8-f2f3776e42b6",
   "metadata": {},
   "outputs": [
    {
     "name": "stdout",
     "output_type": "stream",
     "text": [
      "Média sample_kids: 372.23715916296766\n",
      "Média sample_no_kids: 1041.2070063694268\n"
     ]
    }
   ],
   "source": [
    "# Cálculo das médias amostrais\n",
    "print(\"Média sample_kids:\", sample_kids.mean())\n",
    "print(\"Média sample_no_kids:\", sample_no_kids.mean())"
   ]
  },
  {
   "cell_type": "code",
   "execution_count": 90,
   "id": "ab1c8f05-14bb-41b8-87ae-b2da6ef01e2c",
   "metadata": {},
   "outputs": [],
   "source": [
    "# Cálculo de estatística t e seu p-valor\n",
    "t, pvalue = stats.ttest_ind(sample_kids, sample_no_kids)"
   ]
  },
  {
   "cell_type": "code",
   "execution_count": 78,
   "id": "a9d02489-f801-4a59-8f54-0ba2d31c7c6c",
   "metadata": {},
   "outputs": [
    {
     "data": {
      "text/plain": [
       "(-28.902593571564687, 5.171525024868465e-156)"
      ]
     },
     "execution_count": 78,
     "metadata": {},
     "output_type": "execute_result"
    }
   ],
   "source": [
    "t, pvalue"
   ]
  },
  {
   "cell_type": "code",
   "execution_count": 79,
   "id": "358ad3e5-0415-4f97-aec4-9c1d671d1d0e",
   "metadata": {},
   "outputs": [
    {
     "name": "stdout",
     "output_type": "stream",
     "text": [
      "stat=-28.903, p=0.000000000000000000000000000000000000000000000000000000000000000000000000000000000000000000000000000000000000000000000000000000000000000000000000000000000005\n"
     ]
    }
   ],
   "source": [
    "# Transformação e impressão dos valores para melhor visualização dos resultados\n",
    "print('stat=%.3f, p=%.156f' % (t, pvalue))"
   ]
  },
  {
   "cell_type": "code",
   "execution_count": 80,
   "id": "25cf247b-7af1-47ee-b40c-71fd5bc08cdb",
   "metadata": {},
   "outputs": [
    {
     "name": "stdout",
     "output_type": "stream",
     "text": [
      "Rejeitamos a hipótese nula. Há uma diferença estatisticamente significativa entre as médias de gastos de pessoas com e sem filhos\n"
     ]
    }
   ],
   "source": [
    "# Comparação do p-valor com o nível de significância (alpha)\n",
    "if pvalue < alpha:\n",
    "    print(\"Rejeitamos a hipótese nula. Há uma diferença estatisticamente significativa entre as médias de gastos de pessoas com e sem filhos\")\n",
    "else:\n",
    "    print(\"Não rejeitamos a hipótese nula. Não há evidência suficiente para afirmar que as médias de gastos de pessoas com e sem filhos são diferentes.\")"
   ]
  },
  {
   "cell_type": "markdown",
   "id": "ab1e861d-29e7-4867-9c76-77bc0e62eaeb",
   "metadata": {},
   "source": [
    "#### Conclusão\n",
    "\n",
    "Mediante o valor extremamente baixo de p-valor resultante do Teste T de Student para comparar as médias de gastos de pessoas com e sem filhos, conclui-se que existe uma diferença estatisticamente significativa entre as médias desses dois grupos.\n",
    "\n",
    "A partir deste achado, a equipe de Marketing poderá atribuir, com confiança, recursos para campanhas direcionadas aos clientes que possuem filhos."
   ]
  },
  {
   "cell_type": "markdown",
   "id": "733f8fd7-e184-4e1b-b635-55a0cf5a601c",
   "metadata": {},
   "source": [
    "### Análise 2"
   ]
  },
  {
   "cell_type": "code",
   "execution_count": 104,
   "id": "0e80316a-fdc2-415c-b3d5-205c37f54f48",
   "metadata": {},
   "outputs": [
    {
     "data": {
      "text/plain": [
       "kids\n",
       "1    1112\n",
       "0     628\n",
       "2     415\n",
       "3      50\n",
       "Name: count, dtype: int64"
      ]
     },
     "execution_count": 104,
     "metadata": {},
     "output_type": "execute_result"
    }
   ],
   "source": [
    "# Contagem de clientes com 0, 1, 2 ou 3 filhos\n",
    "df.kids.value_counts()"
   ]
  },
  {
   "cell_type": "code",
   "execution_count": 106,
   "id": "bee7e5c8-47e7-4681-98fa-add94fd8c17c",
   "metadata": {},
   "outputs": [
    {
     "data": {
      "text/plain": [
       "kids\n",
       "0    1041.207006\n",
       "1     434.530576\n",
       "2     221.568675\n",
       "3     237.380000\n",
       "Name: expenses, dtype: float64"
      ]
     },
     "execution_count": 106,
     "metadata": {},
     "output_type": "execute_result"
    }
   ],
   "source": [
    "# Cálculo da média de gastos (expenses) de acordo com a quantidade de filhos\n",
    "df.groupby([\"kids\"]).expenses.mean()"
   ]
  },
  {
   "cell_type": "code",
   "execution_count": 84,
   "id": "8874178b-1aaa-46ad-bcf7-d881b315912a",
   "metadata": {},
   "outputs": [],
   "source": [
    "# Divisão das amostras de acordo com o número de filhos retirando valores nulos\n",
    "kids_1 = df[df[\"kids\"] == 1].expenses.dropna()\n",
    "kids_2 = df[df[\"kids\"] == 2].expenses.dropna()\n",
    "kids_3 = df[df[\"kids\"] == 3].expenses.dropna()"
   ]
  },
  {
   "cell_type": "code",
   "execution_count": 92,
   "id": "83b74a52-c659-4f36-9df0-887f448426e1",
   "metadata": {},
   "outputs": [
    {
     "data": {
      "text/plain": [
       "BartlettResult(statistic=102.2171977024388, pvalue=6.365280420289193e-23)"
      ]
     },
     "execution_count": 92,
     "metadata": {},
     "output_type": "execute_result"
    }
   ],
   "source": [
    "# Cálculo de estatística Barlett para verificar homogeneidade de variâncias (variâncias iguais)\n",
    "stats.bartlett(kids_1, kids_2, kids_3)"
   ]
  },
  {
   "cell_type": "code",
   "execution_count": 94,
   "id": "c16e9545-bcde-46ae-9425-4ba89a8cf4a8",
   "metadata": {},
   "outputs": [
    {
     "name": "stdout",
     "output_type": "stream",
     "text": [
      "As variâncias são diferentes\n"
     ]
    }
   ],
   "source": [
    "# Comparação do p-valor com o nível de significância (alpha)\n",
    "if pvalue < alpha:\n",
    "    print(\"As variâncias são diferentes\")\n",
    "else:\n",
    "    print(\"As variâncias são iguais\")"
   ]
  },
  {
   "cell_type": "code",
   "execution_count": null,
   "id": "46d6ecb6-e782-461d-ab4a-a190414162e3",
   "metadata": {},
   "outputs": [],
   "source": [
    "# Instalação da biblioteca de pacote estatístico\n",
    "!pip install pingouin"
   ]
  },
  {
   "cell_type": "code",
   "execution_count": 97,
   "id": "43faa06a-ed2e-430b-9baf-b3f7dce89995",
   "metadata": {},
   "outputs": [],
   "source": [
    "# Importação da biblioteca para operar os testes de hipótese\n",
    "import pingouin as pg"
   ]
  },
  {
   "cell_type": "code",
   "execution_count": 98,
   "id": "65549298-cecf-4bae-950b-113bff098243",
   "metadata": {},
   "outputs": [],
   "source": [
    "# Cálculo de estatística Anova Welch devido as variâncias diferentes entre as amostras\n",
    "df_kids = df[df.kids != 0]\n",
    "anova_welch = pg.welch_anova(dv=\"expenses\", between=\"kids\", data=df_kids)\n",
    "pvalue = anova_welch[\"p-unc\"].values[0]"
   ]
  },
  {
   "cell_type": "code",
   "execution_count": 99,
   "id": "bcf2b99e-d4ed-42b8-ad94-a6d3629d44c7",
   "metadata": {},
   "outputs": [
    {
     "name": "stdout",
     "output_type": "stream",
     "text": [
      "Rejeitamos a hipótese nula. Pelo menos uma das médias é diferente.\n"
     ]
    }
   ],
   "source": [
    "# Comparação do p-valor com o nível de significância (alpha)\n",
    "if pvalue < alpha:\n",
    "    print(\"Rejeitamos a hipótese nula. Pelo menos uma das médias é diferente.\")\n",
    "else:\n",
    "    print(\"Não rejeitamos a hipótese nula. Não há evidência suficiente para afirmar que as médias de gastos de pessoas com filhos independente da quantidade seja diferente.\")"
   ]
  },
  {
   "cell_type": "code",
   "execution_count": 112,
   "id": "2d506655-e1b0-4dd3-ab6f-25256a3e4f91",
   "metadata": {},
   "outputs": [
    {
     "data": {
      "text/html": [
       "<div>\n",
       "<style scoped>\n",
       "    .dataframe tbody tr th:only-of-type {\n",
       "        vertical-align: middle;\n",
       "    }\n",
       "\n",
       "    .dataframe tbody tr th {\n",
       "        vertical-align: top;\n",
       "    }\n",
       "\n",
       "    .dataframe thead th {\n",
       "        text-align: right;\n",
       "    }\n",
       "</style>\n",
       "<table border=\"1\" class=\"dataframe\">\n",
       "  <thead>\n",
       "    <tr style=\"text-align: right;\">\n",
       "      <th></th>\n",
       "      <th>A</th>\n",
       "      <th>B</th>\n",
       "      <th>mean(A)</th>\n",
       "      <th>mean(B)</th>\n",
       "      <th>diff</th>\n",
       "      <th>se</th>\n",
       "      <th>T</th>\n",
       "      <th>df</th>\n",
       "      <th>pval</th>\n",
       "      <th>hedges</th>\n",
       "    </tr>\n",
       "  </thead>\n",
       "  <tbody>\n",
       "    <tr>\n",
       "      <th>0</th>\n",
       "      <td>1</td>\n",
       "      <td>2</td>\n",
       "      <td>434.530576</td>\n",
       "      <td>221.568675</td>\n",
       "      <td>212.961901</td>\n",
       "      <td>19.678256</td>\n",
       "      <td>10.822194</td>\n",
       "      <td>1152.588538</td>\n",
       "      <td>2.596812e-13</td>\n",
       "      <td>0.513077</td>\n",
       "    </tr>\n",
       "    <tr>\n",
       "      <th>1</th>\n",
       "      <td>1</td>\n",
       "      <td>3</td>\n",
       "      <td>434.530576</td>\n",
       "      <td>237.380000</td>\n",
       "      <td>197.150576</td>\n",
       "      <td>56.823741</td>\n",
       "      <td>3.469511</td>\n",
       "      <td>55.099957</td>\n",
       "      <td>2.888048e-03</td>\n",
       "      <td>0.437688</td>\n",
       "    </tr>\n",
       "    <tr>\n",
       "      <th>2</th>\n",
       "      <td>2</td>\n",
       "      <td>3</td>\n",
       "      <td>221.568675</td>\n",
       "      <td>237.380000</td>\n",
       "      <td>-15.811325</td>\n",
       "      <td>56.988869</td>\n",
       "      <td>-0.277446</td>\n",
       "      <td>55.722906</td>\n",
       "      <td>9.584865e-01</td>\n",
       "      <td>-0.052201</td>\n",
       "    </tr>\n",
       "  </tbody>\n",
       "</table>\n",
       "</div>"
      ],
      "text/plain": [
       "   A  B     mean(A)     mean(B)        diff         se          T  \\\n",
       "0  1  2  434.530576  221.568675  212.961901  19.678256  10.822194   \n",
       "1  1  3  434.530576  237.380000  197.150576  56.823741   3.469511   \n",
       "2  2  3  221.568675  237.380000  -15.811325  56.988869  -0.277446   \n",
       "\n",
       "            df          pval    hedges  \n",
       "0  1152.588538  2.596812e-13  0.513077  \n",
       "1    55.099957  2.888048e-03  0.437688  \n",
       "2    55.722906  9.584865e-01 -0.052201  "
      ]
     },
     "execution_count": 112,
     "metadata": {},
     "output_type": "execute_result"
    }
   ],
   "source": [
    "# Cálculo de estatística Post Hoc Games Howell, devido as variâncias diferentes entre as amostras\n",
    "games_howell = pg.pairwise_gameshowell(dv=\"expenses\", between=\"kids\", data=df_kids)\n",
    "games_howell"
   ]
  },
  {
   "cell_type": "code",
   "execution_count": 114,
   "id": "43c9180c-204a-4dca-ae71-9f2672104e59",
   "metadata": {},
   "outputs": [],
   "source": [
    "# Armazenagem dos p-valores de cada comparação entre os grupos com 1, 2 ou 3 filhos.\n",
    "pvalue1_2 = games_howell[\"pval\"].values[0]\n",
    "pvalue1_3 = games_howell[\"pval\"].values[1]\n",
    "pvalue2_3 = games_howell[\"pval\"].values[2]"
   ]
  },
  {
   "cell_type": "code",
   "execution_count": 116,
   "id": "f55ab874-a5f2-4c01-9b08-e732af19e788",
   "metadata": {},
   "outputs": [
    {
     "name": "stdout",
     "output_type": "stream",
     "text": [
      "Rejeitamos a hipótese nula. A média de gastos de pessoas com 1 filho é diferente da média de gasto de pessoas com 2 filhos.\n"
     ]
    }
   ],
   "source": [
    "# Verificação da significância estatística para a comparação entre os grupos com 1 filho e 2 filhos \n",
    "if pvalue1_2 < alpha:\n",
    "    print(\"Rejeitamos a hipótese nula. A média de gastos de pessoas com 1 filho é diferente da média de gasto de pessoas com 2 filhos.\")\n",
    "else:\n",
    "    print(\"Não rejeitamos a hipótese nula. Não há evidência suficiente para afirmar que as médias de gastos de pessoas com 1 ou 2 filhos seja diferente.\")"
   ]
  },
  {
   "cell_type": "code",
   "execution_count": 122,
   "id": "158b2a29-e281-4472-a545-bef2425c68e5",
   "metadata": {},
   "outputs": [
    {
     "name": "stdout",
     "output_type": "stream",
     "text": [
      "Rejeitamos a hipótese nula. A média de gastos de pessoas com 1 filho é diferente da média de gasto de pessoas com 3 filhos.\n"
     ]
    }
   ],
   "source": [
    "# Verificação da significância estatística para a comparação entre os grupos com 1 filho e 3 filhos \n",
    "if pvalue1_3 < alpha:\n",
    "    print(\"Rejeitamos a hipótese nula. A média de gastos de pessoas com 1 filho é diferente da média de gasto de pessoas com 3 filhos.\")\n",
    "else:\n",
    "    print(\"Não rejeitamos a hipótese nula. Não há evidência suficiente para afirmar que as médias de gastos de pessoas com 1 ou 3 filhos seja diferente.\")"
   ]
  },
  {
   "cell_type": "code",
   "execution_count": 124,
   "id": "bcef3421-3932-485c-b944-ffd3379be360",
   "metadata": {},
   "outputs": [
    {
     "name": "stdout",
     "output_type": "stream",
     "text": [
      "Não rejeitamos a hipótese nula. Não há evidência suficiente para afirmar que as médias de gastos de pessoas com 2 ou 3 filhos seja diferente.\n"
     ]
    }
   ],
   "source": [
    "# Verificação da significância estatística para a comparação entre os grupos com 2 filhos e 3 filhos \n",
    "if pvalue2_3 < alpha:\n",
    "    print(\"Rejeitamos a hipótese nula. A média de gastos de pessoas com 2 filhos é diferente da média de gasto de pessoas com 3 filhos.\")\n",
    "else:\n",
    "    print(\"Não rejeitamos a hipótese nula. Não há evidência suficiente para afirmar que as médias de gastos de pessoas com 2 ou 3 filhos seja diferente.\")"
   ]
  },
  {
   "cell_type": "markdown",
   "id": "90794c5c-20f2-40aa-9481-35393a6b2be4",
   "metadata": {},
   "source": [
    "#### Conclusão\n",
    "\n",
    "O grupo de clientes com apenas 1 filho (média = 434,53) apresentou média de gastos estatisticamente diferente dos grupos com 2 filhos (média = 221,56)  ou 3 filhos (média = 237,38). Entretanto, os clientes com 2 ou 3 filhos não apresentaram diferenças estatisticamente significativas na média de gastos.\n",
    "\n",
    "O foco das campanhas publicitárias poderia ser tanto o grupo de clientes com 2 filhos quanto o grupo de clientes com 3 filhos.\n",
    "\n",
    "Considerando o objetivo da equipe de Marketing, o ideal é concentrar os recursos no grupo com menor média, levando em consideração o volume de clientes. Portanto, a recomendação baseada nos dados desta amostra de clientes iFood, é focar no grupo de clientes com 2 filhos.\n"
   ]
  },
  {
   "cell_type": "code",
   "execution_count": null,
   "id": "977bf207-a888-49cc-a79a-f4e1c57ea108",
   "metadata": {},
   "outputs": [],
   "source": []
  }
 ],
 "metadata": {
  "kernelspec": {
   "display_name": "Python 3 (ipykernel)",
   "language": "python",
   "name": "python3"
  },
  "language_info": {
   "codemirror_mode": {
    "name": "ipython",
    "version": 3
   },
   "file_extension": ".py",
   "mimetype": "text/x-python",
   "name": "python",
   "nbconvert_exporter": "python",
   "pygments_lexer": "ipython3",
   "version": "3.11.5"
  }
 },
 "nbformat": 4,
 "nbformat_minor": 5
}
